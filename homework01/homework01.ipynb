{
 "cells": [
  {
   "cell_type": "heading",
   "metadata": {
    "collapsed": true
   },
   "level": 1,
   "source": [
    "# Homework 1"
   ]
  },
  {
   "cell_type": "heading",
   "metadata": {},
   "level": 3,
   "source": [
    "1.1"
   ]
  },
  {
   "cell_type": "markdown",
   "metadata": {},
   "source": [
    "Introspection is a subjective process for humans, and it is only capable of informing so much. In Cognitive Psychology, we are learning that cognition is broadly created from bottom-up and top-down processes, firstly perceiving the environment, and secondly and often simultaneously imposing our knowledge and experiences on our interpretations of the external and running internal thoughts. A lot of intuition and subconcious components in cognition would be undetectable to introspection.\n",
    "I would think that it can be useful in informing us about some overarching themese in cognitive processes. "
   ]
  },
  {
   "cell_type": "heading",
   "metadata": {},
   "level": 3,
   "source": [
    "1.2"
   ]
  },
  {
   "cell_type": "code",
   "execution_count": null,
   "metadata": {},
   "outputs": [],
   "source": [
    "## TSP problem formulation\n",
    "from tools.aima.search import Problem, hill_climbing, simulated_annealing, \\\n",
    "    exp_schedule, genetic_search\n",
    "from random import randrange\n",
    "from threading import Timer\n",
    "import math\n",
    "import time\n",
    "\n",
    "debug = 0\n",
    "class TravelingSalesman(Problem):\n",
    "    \"\"\"\n",
    "    initial: a random complete city circuit.\n",
    "    map: a dictionary containing the distances between any two cities in the circuit.\n",
    "    \"\"\"\n",
    "    def __init__(self, numCities, initial, map):\n",
    "        self.num = numCities\n",
    "        self.initial = initial\n",
    "        self.map = map\n",
    "\n",
    "    # actions returns a list of pairs of cities to swap in the current state\n",
    "    def actions(self, state):\n",
    "        \"\"\"\n",
    "        :param state: the current state containing a circuit\n",
    "        :return: actions, a list containing tuples of pairs of cities to swap order in the circuit. The list contains all possible swaps\n",
    "        \"\"\"\n",
    "        actions = []\n",
    "        lastCity = max(state)\n",
    "        i = 1\n",
    "        while i < (len(state)-2) :\n",
    "            currentCity = state[i]\n",
    "            for selectSwap in range(1, lastCity+1):\n",
    "                if currentCity != selectSwap:\n",
    "                    actions.append([currentCity, selectSwap])\n",
    "            i += 1\n",
    "        return actions\n",
    "\n",
    "    def result(self, state, action):\n",
    "        \"\"\"\n",
    "        :param state: current state in the tsp\n",
    "        :param action: a selected action (pair of cities to swap)\n",
    "        :return: the new state resulting from swapping the selected pair of cities to the given state\n",
    "        \"\"\"\n",
    "        new_state = state[:]\n",
    "        swap_1 = state.index(action[0])\n",
    "        swap_2 = state.index(action[1])\n",
    "        new_state[swap_1] = action[1]\n",
    "        new_state[swap_2] = action[0]\n",
    "        return new_state\n",
    "\n",
    "    def value(self, state):\n",
    "        \"\"\"\n",
    "        :param state: the current city circuit\n",
    "        :return: the sum of the travelling distances in the given state, negated in order to reflect value\n",
    "        distances should be symmetric\n",
    "        \"\"\"\n",
    "        total = 0\n",
    "        for i in range(1, numCities+1):\n",
    "            first = state[i-1]\n",
    "            second = state[i]\n",
    "            try:\n",
    "                dist = self.map[(first, second)]\n",
    "            except:\n",
    "                dist = self.map[(second, first)]\n",
    "        # the shortest past is the best, so distances are negated to reflect this.\n",
    "            total -= dist\n",
    "            if debug:\n",
    "                print(\"current cities: \", first, second, \"distance between cities: \", dist)\n",
    "        return total"
   ]
  },
  {
   "cell_type": "markdown",
   "metadata": {},
   "source": [
    "## 1.2\n",
    "\n",
    "Describe your TSP problem formulation."
   ]
  },
  {
   "cell_type": "code",
   "execution_count": null,
   "metadata": {},
   "outputs": [
    {
     "name": "stdout",
     "output_type": "stream",
     "text": [
      "Here's the problem formulation\n"
     ]
    }
   ],
   "source": [
    "print('Here\\'s the problem formulation')"
   ]
  },
  {
   "cell_type": "markdown",
   "metadata": {},
   "source": [
    "Describe your sample city-domain and how your code does on it."
   ]
  },
  {
   "cell_type": "code",
   "execution_count": null,
   "metadata": {},
   "outputs": [],
   "source": [
    "print('Here\\'s your code to run the TSP problem')"
   ]
  },
  {
   "cell_type": "markdown",
   "metadata": {},
   "source": [
    "Make some parting comments on this problem."
   ]
  },
  {
   "cell_type": "markdown",
   "metadata": {},
   "source": [
    "## 1.3\n",
    "\n",
    "Follow the same pattern for this problem."
   ]
  },
  {
   "cell_type": "code",
   "execution_count": 1,
   "metadata": {},
   "outputs": [
    {
     "name": "stdout",
     "output_type": "stream",
     "text": [
      "Here's yet more code\n"
     ]
    }
   ],
   "source": [
    "print('Here\\'s yet more code')"
   ]
  }
 ],
 "metadata": {
  "kernelspec": {
   "display_name": "Python 3",
   "language": "python",
   "name": "python3"
  },
  "language_info": {
   "codemirror_mode": {
    "name": "ipython",
    "version": 3
   },
   "file_extension": ".py",
   "mimetype": "text/x-python",
   "name": "python",
   "nbconvert_exporter": "python",
   "pygments_lexer": "ipython3",
   "version": "3.6.6"
  }
 },
 "nbformat": 4,
 "nbformat_minor": 1
}
