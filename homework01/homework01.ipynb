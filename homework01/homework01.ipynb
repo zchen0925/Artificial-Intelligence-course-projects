{
 "cells": [
  {
   "cell_type": "markdown",
   "metadata": {
    "collapsed": true
   },
   "source": [
    "# Homework 1"
   ]
  },
  {
   "cell_type": "heading",
   "metadata": {},
   "level": 1,
   "source": [
    "Homework1"
   ]
  },
  {
   "cell_type": "markdown",
   "metadata": {},
   "source": [
    "1.1"
   ]
  },
  {
   "cell_type": "markdown",
   "metadata": {},
   "source": [
    "Introspection is a subjective process for humans, and it is only capable of informing so much. In Cognitive Psychology, we are learning that cognition is broadly created from bottom-up and top-down processes, simultaneously handling and filtering many stimuli before they reach consciousness. These automatic components of cognition would be undetectable to introspection and thus cannot inform efforts in AI problem-solving. An example can be that in solving a problem, humans (subconsciously) choose to attend to certain features while ignoring others. If only introspection is used in abstracting how we came to the solution, AI would miss out on how we pre-filter the information to focus on the useful features and be lost in a sea of information. Another broad idea in cognitive psychology is how we virtually always impose prior knowledge and experience on our current situation. This top-down process would be pretty hard to capture and translate to a machine using introspection, since computers need to be programs to glean information from past experiences and \"learn\". So personally I think that we need something that is more objective and well-defined than just introspection to make problem-solving practical for machines. Cognitive tests and experienments can zero-in on what happens under the hood in human thought processes. Nonetheless, introspection tells us how we prioritize certain information and make general judgements, these principles can serve as a foundation to build AI algorithms heuristics."
   ]
  },
  {
   "cell_type": "markdown",
   "metadata": {},
   "source": [
    "1.2\n",
    "I formulated traveling salesman as a local search problem. Each city is coded as an integer, and the distances between any two cities (random integer between 0 and 20) is stored as a key-value pair in a dictionary. The problem starts with a initial state, which is a random complete path. From here, the problem allows for actions that swap the order of visit between any two cities excluding the first and last in the circuit. It is required that any state starts at city 0, hits all cities, and returns to 0. At any state, The total travelled distance for the current state is calculated by adding up the pair-wise distances in the circuit. Pair-wise distances are found in the map, and it is assumed that distances are symmetric. We'd want to optimize and find the shortest possible path, so actions that decreases the total distance of the current state are defined to have a higher value."
   ]
  },
  {
   "cell_type": "code",
   "execution_count": null,
   "metadata": {},
   "outputs": [
    {
     "name": "stdout",
     "output_type": "stream",
     "text": [
      "Here's the problem formulation\n"
     ]
    }
   ],
   "source": [
    "print('Here\\'s the problem formulation')"
   ]
  },
  {
   "cell_type": "code",
   "execution_count": null,
   "metadata": {},
   "outputs": [],
   "source": [
    "## TSP problem formulation\n",
    "from tools.aima.search import Problem, hill_climbing, simulated_annealing, \\\n",
    "    exp_schedule, genetic_search\n",
    "from random import randrange\n",
    "from threading import Timer\n",
    "import math\n",
    "import time\n",
    "\n",
    "debug = 0\n",
    "class TravelingSalesman(Problem):\n",
    "    \"\"\"\n",
    "    initial: a random complete city circuit.\n",
    "    map: a dictionary containing the distances between any two cities in the circuit.\n",
    "    \"\"\"\n",
    "    def __init__(self, numCities, initial, map):\n",
    "        self.num = numCities\n",
    "        self.initial = initial\n",
    "        self.map = map\n",
    "\n",
    "    # actions returns a list of pairs of cities to swap in the current state\n",
    "    def actions(self, state):\n",
    "        \"\"\"\n",
    "        :param state: the current state containing a circuit\n",
    "        :return: actions, a list containing tuples of pairs of cities to swap order in the circuit. The list contains all possible swaps\n",
    "        \"\"\"\n",
    "        actions = []\n",
    "        lastCity = max(state)\n",
    "        i = 1\n",
    "        while i < (len(state)-2) :\n",
    "            currentCity = state[i]\n",
    "            for selectSwap in range(1, lastCity+1):\n",
    "                if currentCity != selectSwap:\n",
    "                    actions.append([currentCity, selectSwap])\n",
    "            i += 1\n",
    "        return actions\n",
    "\n",
    "    def result(self, state, action):\n",
    "        \"\"\"\n",
    "        :param state: current state in the tsp\n",
    "        :param action: a selected action (pair of cities to swap)\n",
    "        :return: the new state resulting from swapping the selected pair of cities to the given state\n",
    "        \"\"\"\n",
    "        new_state = state[:]\n",
    "        swap_1 = state.index(action[0])\n",
    "        swap_2 = state.index(action[1])\n",
    "        new_state[swap_1] = action[1]\n",
    "        new_state[swap_2] = action[0]\n",
    "        return new_state\n",
    "\n",
    "    def value(self, state):\n",
    "        \"\"\"\n",
    "        :param state: the current city circuit\n",
    "        :return: the sum of the travelling distances in the given state, negated in order to reflect value\n",
    "        distances should be symmetric\n",
    "        \"\"\"\n",
    "        total = 0\n",
    "        for i in range(1, numCities+1):\n",
    "            first = state[i-1]\n",
    "            second = state[i]\n",
    "            try:\n",
    "                dist = self.map[(first, second)]\n",
    "            except:\n",
    "                dist = self.map[(second, first)]\n",
    "        # the shortest past is the best, so distances are negated to reflect this.\n",
    "            total -= dist\n",
    "            if debug:\n",
    "                print(\"current cities: \", first, second, \"distance between cities: \", dist)\n",
    "        return total"
   ]
  },
  {
   "cell_type": "markdown",
   "metadata": {},
   "source": [
    "To test the tsp formulation, I generated 50 cities with random distances, and used hill-climbing and simulated-annealing to find a solution."
   ]
  },
  {
   "cell_type": "code",
   "execution_count": null,
   "metadata": {},
   "outputs": [],
   "source": [
    "print('Here\\'s code to run the TSP problem')"
   ]
  },
  {
   "cell_type": "code",
   "execution_count": null,
   "metadata": {},
   "outputs": [],
   "source": [
    "if __name__ == '__main__':\n",
    "    numCities = 50\n",
    "    initial = []\n",
    "    for city in range(numCities):\n",
    "        initial.append(city)\n",
    "    initial.append(0)\n",
    "\n",
    "    map = {}\n",
    "    for cityA in range(numCities):\n",
    "        for cityB in range(cityA+1, numCities):\n",
    "            map[cityA, cityB] = randrange(1, 20)\n",
    "\n",
    "    '''\n",
    "    map = {(0,1): 1.5, (0,2): 2, (0,3): 3, (0,4): 2.5, (0,5): 3,\n",
    "           (1,2): 7, (1,3): 2.4, (1,4): 4, (1,5): 3.6,\n",
    "           (2,3): 5,(2,4): 4.5, (2,5): 1.5,\n",
    "           (3,4): 2.5, (3,5): 3,\n",
    "           (4,5): 7.5}\n",
    "    '''\n",
    "\n",
    "    if debug:\n",
    "        print(\"testing the constructed map: \", map)\n",
    "\n",
    "    tsp = TravelingSalesman(numCities, initial, map)\n",
    "    print(\"Traveling salesman problem: \",\n",
    "          \"\\ninitial circuit: \", initial,\n",
    "          \"initial circuit distance: \", -tsp.value(initial))\n",
    "\n",
    "    hill_solution = hill_climbing(tsp)\n",
    "    print(\"Hill-climbing solution: \", str(hill_solution), \"distance: \", str(-tsp.value(hill_solution)))\n",
    "\n",
    "    annealing_solution = simulated_annealing(tsp,\n",
    "        exp_schedule(k=20, lam=0.005, limit=10000)\n",
    "    )\n",
    "    print(\"Simulated solution: \", str(annealing_solution), \"distance: \", str(-tsp.value(annealing_solution)))\n"
   ]
  },
  {
   "cell_type": "markdown",
   "metadata": {},
   "source": [
    "With this formulation of tsp, hill-climbing and simulated annealing both finds solutions that are much shorter in distance than the initial path. Their solutions are usually pretty comparable - sometimes hill-climbing finds a better one, sometimes simulated-annealing does. I did notice that simulated annealing takes much longer to run especially on the larger configurations. With the exception ofextreme scenarios where being willing to travel to further away cities will lead to saving great distances later on in the path, I think in traveling salesman problem simulated annealing probably don't have much advantage over simple hill-climbing especially after weighing the costs. It makes sense to always pick your next states that is more advantageous (shorter distance)."
   ]
  },
  {
   "cell_type": "heading",
   "metadata": {},
   "level": 3,
   "source": [
    "1.3"
   ]
  },
  {
   "cell_type": "code",
   "execution_count": null,
   "metadata": {},
   "outputs": [],
   "source": [
    "from csp import CSP, parse_neighbors, min_conflicts, backtracking_search, AC3\n",
    "from search import depth_first_graph_search\n",
    "\n",
    "debug = 0\n",
    "def courseScheduling(courses = 'cs108 cs112 cs212 cs214 cs232 cs344 cs352', faculty = 'dschuurman hplantinga jadams kvanderlinden', times = 'mwf800 mwf900 mwf1030 mwf230 tth1030', classrooms = 'nh253 sb382', assignments = {'cs108':['jadams', 'kvanderlinden', 'dschuurman'], 'cs344':['kvanderlinden'], 'cs352':['hplantinga']}):\n",
    "    \"\"\"\n",
    "    :param courses: will be the variables in CSP formulation\n",
    "    :param faculty:\n",
    "    :param times:\n",
    "    :param classrooms:\n",
    "    :param assignments: a dict containing professors who are assigned to a course. Not all courses have assigned professors\n",
    "    :return: a CSP instance with variables populated with course numbers, domains populated with any possible combinations of prof+time+location for each course, neighbors populated with any course pairings, and constraints see comments below\n",
    "    \"\"\"\n",
    "    variables = courses.split()\n",
    "    faculty = faculty.split()\n",
    "    times = times.split()\n",
    "    classrooms = classrooms.split()\n",
    "    assignments = assignments\n",
    "    domains = {}\n",
    "    neighbors = {}\n",
    "\n",
    "    def findAssignments(faculty=faculty, times = times, classrooms = classrooms):\n",
    "        possibilities = []\n",
    "        for prof in faculty:\n",
    "            for time in times:\n",
    "                for room in classrooms:\n",
    "                    possibilities.append(prof+' '+time+' '+room)\n",
    "        return possibilities\n",
    "\n",
    "    for course in variables:\n",
    "        neighbors[course] = [others for others in variables if others != course]\n",
    "        domains[course] = findAssignments()\n",
    "\n",
    "    if debug:\n",
    "        print(\"testing variables: \", str(variables))\n",
    "        print(\"testing domain: \", str(domains))\n",
    "        print(\"testing neighbors: \", str(neighbors))\n",
    "\n",
    "    def scheduling_constraint(A, a, B, b):\n",
    "        \"\"\"\n",
    "        :param A: variable A (a course)\n",
    "        :param a: the current assigned values for A in domain\n",
    "        :param B: variable B (a course)\n",
    "        :param b: the current assigned values for B in domain\n",
    "        :return: true if all physical constraints and preferred prof-course pairings are satisfied\n",
    "        no professor teaches two courses at the same time.\n",
    "        no two courses share the same location at the same time.\n",
    "        \"\"\"\n",
    "        profA = a.split()[0]\n",
    "        profB = b.split()[0]\n",
    "        tA = a.split()[1]\n",
    "        tB = b.split()[1]\n",
    "        rA = a.split()[2]\n",
    "        rB = b.split()[2]\n",
    "        if A in assignments and profA not in assignments[A]:\n",
    "            return False\n",
    "        elif B in assignments and profB not in assignments[B]:\n",
    "            return False\n",
    "        elif tA == tB:\n",
    "            if profA == profB or rA == rB:\n",
    "                return False\n",
    "            else:\n",
    "                return True\n",
    "        else:\n",
    "            return True\n",
    "\n",
    "\n",
    "    return CSP(variables, domains, neighbors, scheduling_constraint)"
   ]
  },
  {
   "cell_type": "markdown",
   "metadata": {},
   "source": []
  },
  {
   "cell_type": "code",
   "execution_count": null,
   "metadata": {},
   "outputs": [],
   "source": [
    "if __name__ == '__main__':\n",
    "    '''\n",
    "    tried to solve scheduling problem with AC3, backtracking, and min_conflicts.\n",
    "    Mirrored printing of results from lab03/queens.py\n",
    "    '''\n",
    "    problem = courseScheduling()\n",
    "    #solution = AC3(problem)\n",
    "    #solution = backtracking_search(problem)\n",
    "    solution = min_conflicts(problem)\n",
    "    if type(solution) is bool:\n",
    "        if solution and problem.goal_test(problem.infer_assignment()):\n",
    "            print('AC3 Solution:')\n",
    "        else:\n",
    "            print('AC Failure:')\n",
    "        print(problem.curr_domains)\n",
    "\n",
    "    # Handle other solutions next.\n",
    "    elif solution != None and problem.goal_test(solution):\n",
    "        print('Solution:')\n",
    "        #i used .format command as seen from this page: https://stackoverflow.com/questions/10837017/how-do-i-make-a-fixed-size-formatted-string-in-python\n",
    "        print('Course:                  Professor:               Time:                Location:       ')\n",
    "        for course in solution:\n",
    "            prof =solution[course].split()[0]\n",
    "            time = solution[course].split()[1]\n",
    "            location = solution[course].split()[2]\n",
    "            print('{:25s}{:25s}{:25s}{:25s}'.format(course,prof,time,location))\n",
    "    #    problem.display(problem.infer_assignment())\n",
    "    else:\n",
    "        print('Failed - domains: ' + str(problem.curr_domains))\n",
    "        problem.display(problem.infer_assignment())"
   ]
  }
 ],
 "metadata": {
  "kernelspec": {
   "display_name": "Python 3",
   "language": "python",
   "name": "python3"
  },
  "language_info": {
   "codemirror_mode": {
    "name": "ipython",
    "version": 3
   },
   "file_extension": ".py",
   "mimetype": "text/x-python",
   "name": "python",
   "nbconvert_exporter": "python",
   "pygments_lexer": "ipython3",
   "version": "3.6.6"
  }
 },
 "nbformat": 4,
 "nbformat_minor": 1
}
