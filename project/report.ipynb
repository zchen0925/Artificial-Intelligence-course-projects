{
  "cells": [
    {
      "cell_type": "markdown",
      "source": "\u003ch4\u003e\u003ccenter\u003e AI Project Proposal Draft 2 \u003c/h4\u003e\n\u003ch5\u003eZiqi Chen\u003cbr\u003e\nCS 344\u003cbr\u003e\nMay 3rd, 2019\u003c/h5\u003e\n\n",
      "metadata": {
        "pycharm": {
          "metadata": false
        }
      }
    },
    {
      "cell_type": "markdown",
      "source": "\u003ch5\u003eVision — Give an overview of the project and its purpose.\u003c/h5\u003e\nThis project was inspired from the neuroscience principle that our visual cortex is a complex system that designates specialized area or group of areas for the processing of different types of visual stimuli. Based on this idea, the activation patterns in our brains should be unique when we are seeing different classes of visual stimuli, such as a human face versus a cat versus an inanimate object.  \nWith the recent advance of neuroimaging technologies, we have more tools to shed light upon how our brain works. The brain scan data is piling up, but it isn\u0027t always easy for humans to pick apart the patterns and connections hidden in the fMRI images right away.  \nIn this project, I am interested to learn how to apply the strengths of Machine-Learning models we\u0027ve learned about in class: pattern-extraction, to simple analysis of neuroimagine data. This project trains ML models on a classification task, one that uses a form of represented fMRI data to find hidden distinct brain activation patterns that result from seeing a class of visual stimuli, and predicts the type of stimuli the person was seeing when this brain activity was recorded. \n",
      "metadata": {
        "pycharm": {
          "metadata": false,
          "name": "#%% md\n"
        }
      }
    },
    {
      "cell_type": "markdown",
      "source": "\u003ch5\u003eBackground\u003c/h5\u003e\nThis project aims to do a multiclass (3) classification of brain imaging samples. I\u0027m using the [Haxby et al (2001) dataset](https://zenodo.org/record/1203329#.XNpTO0MpBqs) to perform a 3-way classification, trying to train the models to distinguish the fMRI brain scans that result from seeing a face, a cat, or a house. The dataset contains block-design fMRI data for 6 subjects who viewed 12 runs of repeated visual presentations of various stimuli. For the purpose of this project, only subjects 1 - 4 were included as they have complete fMRI data and the corresponding text labels, describing the stimuli type used in each trial. \nIn terms of fMRI data manipulation, This project relies on NiLearn, a Python Scikit-Learn based library with high-level functions for manipulation and analysis of neuroimaging data. In particular, I reference the [documentation on the NiftiMasker class](http://nilearn.github.io/modules/generated/nilearn.input_data.NiftiMasker.html) which does the heavy-lifting of readying the fMRI data to be used by models. It applies a mask to 4D fMRI images to extract 2D arrays, with each datapoint representing voxel of brain region activation * time. In loadingData.py, I cited [this NiLearn example](http://nilearn.github.io/auto_examples/plot_decoding_tutorial.html#sphx-glr-auto-examples-plot-decoding-tutorial-py) to create a data matrix from the fMRIs.\nIn terms of technologies used, I experimented with a simple [DNN](https://github.com/kvlinden-courses/cs344-code/blob/master/u08features/keras-mnist.ipynb) and [CNN](https://github.com/kvlinden-courses/cs344-code/blob/master/u09classification/keras-cnn.ipynb) models. Neural networks, especially Convolutional Neural Networks, are known for image-processing and classification, hence the inclusion in this project.  \nLast but not least, I used Linear Support Vector Machines as one of the models. Support Vector Machines are a class of supervised machine learning methods for classification and regression tasks. SVMs represent the training data as points in space (cited from [https://en.wikipedia.org/wiki/Support-vector_machine], and use a subset of training points in the decision function, also called support vectors. Its basic philosophy is to find the hyper-plane that most efficiently separates each class of samples from each other (cited from [https://www.analyticsvidhya.com/blog/2017/09/understaing-support-vector-machine-example-code/].  \nFrom talking with Professor Vander Linden during the walkthrough, I learned that Support Vector Machines have been studied for a couple decades, and they have strong support for smaller datasets. Considering the size of this dataset, SVMs seem a good choice. Additionally, Support Vector Classification is known for its strength in classification problems that have high dimensional X inputs (cited from [https://scikit-learn.org/stable/modules/svm.html]), and that is the case in this project. It is effective not only in binary classification, but also multiclass classification problems. For the latter, SVMs supports two types of approaches: one-vs-rest or one-vs-one. One-vs-rest establishes one class and compares it against the other, whereas one-vs-one compares every class with every other, hence more computationally demanding (cited from [https://stats.stackexchange.com/questions/142325/svm-three-way-classification]. This project uses the former approach, one-vs-rest. The implementation of this model is based on [https://scikit-learn.org/stable/modules/svm.html#multi-class-classification].  \nThe fine-tuning of SVM hyperparameters came from documentation on the set__params method from [this page](https://scikit-learn.org/stable/modules/generated/sklearn.pipeline.Pipeline.html). ",
      "metadata": {
        "pycharm": {
          "metadata": false
        }
      }
    },
    {
      "cell_type": "markdown",
      "source": "\u003ch5\u003eImplementation — Summarize your implementation and, if appropriate, how it extends on the work you’ve referenced\u003c/h5\u003e\nGiven NiLearn\u0027s high-level pre-built functions, some of the implementation details will be carried out automatically in \nthe library.\nAfter reading tutorials, I think that the first step in implementation is downloading the dataset which will then be loaded\ninto Python. Next, I\u0027ll use NiLearn functions transforming 3D images with a time series into 2D arrays that Scikit accepts.\nThen a Support Vector Machine estimator will be trained on the data for the first two tasks. The parameters will be tweaked\nto achieve a satisfiable accuracy. Then, I\u0027ll need to research NiLearn functions that will plot the resulting brain activities\nfrom the prediction result arrays. Finally, for the third task, a correlation matrix need to be created based on time series data.\nA GraphicLasso estimator will be fit on the correlation matrix. I will look for existing projects on functional connectivity maps\nand compare the model\u0027s prediction with their findings. ",
      "metadata": {
        "pycharm": {
          "metadata": false,
          "name": "#%% md\n"
        }
      }
    },
    {
      "cell_type": "markdown",
      "source": "\u003ch5\u003eResults — Give the results of your system and comparing them with other similar work\u003c/h5\u003e\n",
      "metadata": {
        "pycharm": {
          "metadata": false,
          "name": "#%% md\n"
        }
      }
    },
    {
      "cell_type": "markdown",
      "source": "**Loading and Preprocessing of data**  \nHere I first download the Haxby dataset and then use the NiftiMasker class from NiLearn to preprocess the 4D fMRI images into numpy matrices. ",
      "metadata": {
        "pycharm": {
          "metadata": false,
          "name": "#%% md\n"
        }
      }
    },
    {
      "cell_type": "code",
      "execution_count": 4,
      "outputs": [],
      "source": "# loadingData.py employs the NiLearn Python library to download the Haxby dataset,\n# which contains the brain scan images of four subjects and the accompanying labels\n# of the images they looked at while their brain activity was captured.\n# NiftiMasker function in the NiLearn library was used to transform the 4D brain scan images into 2D Numpy arrays,\n# which are vectors in which each datapoint represents the extrapolated brain tissue voxel * time\n\nfrom nilearn import datasets, image, plotting\nfrom nilearn.input_data import NiftiMasker\nfrom nilearn.image.image import mean_img\nfrom nilearn.image import index_img\nimport numpy as np\nimport pandas as pd\n\n#import Haxby et al.(2001): Faces and Objects in Ventral Temporal Cortex (fMRI)\n# Subjects 5 and 6 don\u0027t have complete label or anatomical information, only included subjects 1-4\nhaxby_dataset \u003d datasets.fetch_haxby(subjects\u003d4)\n\n#load nifti images for the given subjects. Range 0-3\n#defaults to subject 2\ndef loadSubject(subjectNum \u003d 1):\n    # \u0027func\u0027 is a list of filenames: one for each subject\n    fmri_filename \u003d haxby_dataset.func[subjectNum]\n    return fmri_filename\n\nfmri_filename \u003d loadSubject(0)\nbehavioral \u003d pd.read_csv(haxby_dataset.session_target[0], sep\u003d\" \")\nconditions \u003d behavioral[\u0027labels\u0027]\n\nfacecat_mask \u003d conditions.isin([\u0027face\u0027, \u0027cat\u0027])\nconditions_facecat \u003d conditions[facecat_mask]\nsession_facecat \u003d behavioral[facecat_mask].to_records(index \u003d False)\n\nfacehouse_mask \u003d conditions.isin([\u0027face\u0027, \u0027house\u0027])\nconditions_facehouse \u003d conditions[facehouse_mask]\nsession_facehouse \u003d behavioral[facehouse_mask].to_records(index \u003d False)\n\nthreeway_mask \u003d conditions.isin([\u0027face\u0027, \u0027house\u0027, \u0027cat\u0027])\nconditions_threeway \u003d conditions[threeway_mask]\nsession_threeway \u003d behavioral[threeway_mask].to_records(index \u003d False)\nmask_filename \u003d haxby_dataset.mask\n\n#masking the data from 4D image to 2D array: voxel x time\n#with smothing and standardization\nmasker \u003d NiftiMasker(mask_img\u003dmask_filename, smoothing_fwhm\u003d4, standardize\u003dTrue, memory\u003d\"nilearn_cache\", memory_level\u003d1)\nX \u003d masker.fit_transform(fmri_filename)\n\n# Apply our condition_mask to subject 1\u0027s brain scans:\nFC \u003d X[facecat_mask]\nFH \u003d X[facehouse_mask]\nFHC \u003d X[threeway_mask]\n\n# References\n# Haxby, J., Gobbini, M., Furey, M., Ishai, A., Schouten, J., and Pietrini, P. (2001). Distributed and overlapping representations of faces and objects in ventral temporal cortex. Science 293, 2425-2430.\n\ndef processSubject(sub):\n    mask_filename \u003d haxby_dataset.mask\n    # masking the data from 4D image to 2D array: voxel x time\n    # with smothing and standardization\n    masker \u003d NiftiMasker(mask_img\u003dmask_filename, smoothing_fwhm\u003d4, standardize\u003dTrue, memory\u003d\"nilearn_cache\",\n                         memory_level\u003d1)\n    X \u003d masker.fit_transform(loadSubject(sub))\n    behavioral \u003d pd.read_csv(haxby_dataset.session_target[sub], sep\u003d\" \")\n    conditions \u003d behavioral[\u0027labels\u0027]\n    threeway_mask \u003d conditions.isin([\u0027face\u0027, \u0027house\u0027, \u0027cat\u0027])\n    conditions_threeway \u003d conditions[threeway_mask]\n    FHC \u003d X[threeway_mask]\n    return FHC, conditions_threeway\n\ndef processSessions(sub):\n    behavioral \u003d pd.read_csv(haxby_dataset.session_target[sub], sep\u003d\" \")\n    conditions \u003d behavioral[\u0027labels\u0027]\n    threeway_mask \u003d conditions.isin([\u0027face\u0027, \u0027house\u0027, \u0027cat\u0027])\n    session_threeway \u003d behavioral[threeway_mask].to_records(index \u003d False)\n    return session_threeway\n\nX_all, Y_all \u003d processSubject(0)\nsession_all \u003d  processSessions(0)\nfor sub in range(1, 4):\n    x, y \u003d processSubject(sub)\n    session \u003d processSessions(sub)\n    X_all \u003d np.concatenate((X_all, x), axis \u003d 0)\n    Y_all \u003d np.concatenate((Y_all, y))\n    session_all \u003d np.concatenate((session_all, session))",
      "metadata": {
        "pycharm": {
          "metadata": false,
          "name": "#%%\n",
          "is_executing": false
        }
      }
    },
    {
      "cell_type": "markdown",
      "source": "Shape of concatenated transformed fMRI data:",
      "metadata": {
        "pycharm": {
          "metadata": false,
          "name": "#%% md\n"
        }
      }
    },
    {
      "cell_type": "code",
      "execution_count": 5,
      "outputs": [
        {
          "data": {
            "text/plain": "(1296, 39912)"
          },
          "metadata": {},
          "output_type": "execute_result",
          "execution_count": 5
        }
      ],
      "source": "X_all.shape",
      "metadata": {
        "pycharm": {
          "metadata": false,
          "name": "#%%\n",
          "is_executing": false
        }
      }
    },
    {
      "cell_type": "markdown",
      "source": "Example row in the resulting 2D array: ",
      "metadata": {
        "pycharm": {
          "metadata": false,
          "name": "#%% md\n"
        }
      }
    },
    {
      "cell_type": "code",
      "execution_count": 6,
      "outputs": [
        {
          "data": {
            "text/plain": "array([-1.121251  , -1.1173762 , -1.0611467 , ...,  0.84500587,\n        0.89118195,  0.96187204], dtype\u003dfloat32)"
          },
          "metadata": {},
          "output_type": "execute_result",
          "execution_count": 6
        }
      ],
      "source": "X_all[0]",
      "metadata": {
        "pycharm": {
          "metadata": false,
          "name": "#%%\n",
          "is_executing": false
        }
      }
    },
    {
      "cell_type": "markdown",
      "source": "Shape of concatenated sessions:  ",
      "metadata": {
        "pycharm": {
          "metadata": false,
          "name": "#%% md\n"
        }
      }
    },
    {
      "cell_type": "code",
      "execution_count": 8,
      "outputs": [
        {
          "data": {
            "text/plain": "(1296,)"
          },
          "metadata": {},
          "output_type": "execute_result",
          "execution_count": 8
        }
      ],
      "source": "session_all.shape",
      "metadata": {
        "pycharm": {
          "metadata": false,
          "name": "#%%\n",
          "is_executing": false
        }
      }
    },
    {
      "cell_type": "markdown",
      "source": "First fifteen tuples recording sessions: ",
      "metadata": {
        "pycharm": {
          "metadata": false,
          "name": "#%% md\n"
        }
      }
    },
    {
      "cell_type": "code",
      "execution_count": 9,
      "outputs": [
        {
          "data": {
            "text/plain": "array([(\u0027face\u0027, 0), (\u0027face\u0027, 0), (\u0027face\u0027, 0), (\u0027face\u0027, 0), (\u0027face\u0027, 0),\n       (\u0027face\u0027, 0), (\u0027face\u0027, 0), (\u0027face\u0027, 0), (\u0027face\u0027, 0), (\u0027cat\u0027, 0),\n       (\u0027cat\u0027, 0), (\u0027cat\u0027, 0), (\u0027cat\u0027, 0), (\u0027cat\u0027, 0), (\u0027cat\u0027, 0)],\n      dtype\u003d(numpy.record, [(\u0027labels\u0027, \u0027O\u0027), (\u0027chunks\u0027, \u0027\u003ci8\u0027)]))"
          },
          "metadata": {},
          "output_type": "execute_result",
          "execution_count": 9
        }
      ],
      "source": "session_all[0:15]\n",
      "metadata": {
        "pycharm": {
          "metadata": false,
          "name": "#%% \n",
          "is_executing": false
        }
      }
    },
    {
      "cell_type": "markdown",
      "source": "**Three-way classification with simple Dense Neural Net**  \nHere I use a simple neural network on the processed 2D dataset. This is a different type of ML model than the example SVM in the binary classification tutorial. ",
      "metadata": {
        "pycharm": {
          "metadata": false,
          "name": "#%% md\n"
        }
      }
    },
    {
      "cell_type": "code",
      "execution_count": 10,
      "outputs": [
        {
          "name": "stdout",
          "text": [
            "_________________________________________________________________\nLayer (type)                 Output Shape              Param #   \n\u003d\u003d\u003d\u003d\u003d\u003d\u003d\u003d\u003d\u003d\u003d\u003d\u003d\u003d\u003d\u003d\u003d\u003d\u003d\u003d\u003d\u003d\u003d\u003d\u003d\u003d\u003d\u003d\u003d\u003d\u003d\u003d\u003d\u003d\u003d\u003d\u003d\u003d\u003d\u003d\u003d\u003d\u003d\u003d\u003d\u003d\u003d\u003d\u003d\u003d\u003d\u003d\u003d\u003d\u003d\u003d\u003d\u003d\u003d\u003d\u003d\u003d\u003d\u003d\u003d\ndense_1 (Dense)              (None, 32)                1277216   \n_________________________________________________________________\ndense_2 (Dense)              (None, 16)                528       \n_________________________________________________________________\ndense_3 (Dense)              (None, 3)                 51        \n\u003d\u003d\u003d\u003d\u003d\u003d\u003d\u003d\u003d\u003d\u003d\u003d\u003d\u003d\u003d\u003d\u003d\u003d\u003d\u003d\u003d\u003d\u003d\u003d\u003d\u003d\u003d\u003d\u003d\u003d\u003d\u003d\u003d\u003d\u003d\u003d\u003d\u003d\u003d\u003d\u003d\u003d\u003d\u003d\u003d\u003d\u003d\u003d\u003d\u003d\u003d\u003d\u003d\u003d\u003d\u003d\u003d\u003d\u003d\u003d\u003d\u003d\u003d\u003d\u003d\nTotal params: 1,277,795\nTrainable params: 1,277,795\nNon-trainable params: 0\n_________________________________________________________________\n",
            "Epoch 1/10\n",
            "\r324/800 [\u003d\u003d\u003d\u003d\u003d\u003d\u003d\u003d\u003d\u003d\u003d\u003e..................] - ETA: 1s - loss: 1.3288 - acc: 0.3272",
            "\b\b\b\b\b\b\b\b\b\b\b\b\b\b\b\b\b\b\b\b\b\b\b\b\b\b\b\b\b\b\b\b\b\b\b\b\b\b\b\b\b\b\b\b\b\b\b\b\b\b\b\b\b\b\b\b\b\b\b\b\b\b\b\b\b\b\b\b\b\b\b\b\b\b\b\b\b\b\b\r648/800 [\u003d\u003d\u003d\u003d\u003d\u003d\u003d\u003d\u003d\u003d\u003d\u003d\u003d\u003d\u003d\u003d\u003d\u003d\u003d\u003d\u003d\u003d\u003d\u003e......] - ETA: 0s - loss: 3.5050 - acc: 0.3627",
            "\b\b\b\b\b\b\b\b\b\b\b\b\b\b\b\b\b\b\b\b\b\b\b\b\b\b\b\b\b\b\b\b\b\b\b\b\b\b\b\b\b\b\b\b\b\b\b\b\b\b\b\b\b\b\b\b\b\b\b\b\b\b\b\b\b\b\b\b\b\b\b\b\b\b\b\b\b\b\b\r800/800 [\u003d\u003d\u003d\u003d\u003d\u003d\u003d\u003d\u003d\u003d\u003d\u003d\u003d\u003d\u003d\u003d\u003d\u003d\u003d\u003d\u003d\u003d\u003d\u003d\u003d\u003d\u003d\u003d\u003d\u003d] - 1s 2ms/step - loss: 3.8020 - acc: 0.3650\n",
            "Epoch 2/10\n",
            "\r324/800 [\u003d\u003d\u003d\u003d\u003d\u003d\u003d\u003d\u003d\u003d\u003d\u003e..................] - ETA: 0s - loss: 4.2186 - acc: 0.4630",
            "\b\b\b\b\b\b\b\b\b\b\b\b\b\b\b\b\b\b\b\b\b\b\b\b\b\b\b\b\b\b\b\b\b\b\b\b\b\b\b\b\b\b\b\b\b\b\b\b\b\b\b\b\b\b\b\b\b\b\b\b\b\b\b\b\b\b\b\b\b\b\b\b\b\b\b\b\b\b\b\r648/800 [\u003d\u003d\u003d\u003d\u003d\u003d\u003d\u003d\u003d\u003d\u003d\u003d\u003d\u003d\u003d\u003d\u003d\u003d\u003d\u003d\u003d\u003d\u003d\u003e......] - ETA: 0s - loss: 3.8586 - acc: 0.4954",
            "\b\b\b\b\b\b\b\b\b\b\b\b\b\b\b\b\b\b\b\b\b\b\b\b\b\b\b\b\b\b\b\b\b\b\b\b\b\b\b\b\b\b\b\b\b\b\b\b\b\b\b\b\b\b\b\b\b\b\b\b\b\b\b\b\b\b\b\b\b\b\b\b\b\b\b\b\b\b\b",
            "\r800/800 [\u003d\u003d\u003d\u003d\u003d\u003d\u003d\u003d\u003d\u003d\u003d\u003d\u003d\u003d\u003d\u003d\u003d\u003d\u003d\u003d\u003d\u003d\u003d\u003d\u003d\u003d\u003d\u003d\u003d\u003d] - 1s 841us/step - loss: 3.8493 - acc: 0.4963\n",
            "Epoch 3/10\n",
            "\r324/800 [\u003d\u003d\u003d\u003d\u003d\u003d\u003d\u003d\u003d\u003d\u003d\u003e..................] - ETA: 0s - loss: 3.1185 - acc: 0.5833",
            "\b\b\b\b\b\b\b\b\b\b\b\b\b\b\b\b\b\b\b\b\b\b\b\b\b\b\b\b\b\b\b\b\b\b\b\b\b\b\b\b\b\b\b\b\b\b\b\b\b\b\b\b\b\b\b\b\b\b\b\b\b\b\b\b\b\b\b\b\b\b\b\b\b\b\b\b\b\b\b\r648/800 [\u003d\u003d\u003d\u003d\u003d\u003d\u003d\u003d\u003d\u003d\u003d\u003d\u003d\u003d\u003d\u003d\u003d\u003d\u003d\u003d\u003d\u003d\u003d\u003e......] - ETA: 0s - loss: 2.8445 - acc: 0.6157",
            "\b\b\b\b\b\b\b\b\b\b\b\b\b\b\b\b\b\b\b\b\b\b\b\b\b\b\b\b\b\b\b\b\b\b\b\b\b\b\b\b\b\b\b\b\b\b\b\b\b\b\b\b\b\b\b\b\b\b\b\b\b\b\b\b\b\b\b\b\b\b\b\b\b\b\b\b\b\b\b\r800/800 [\u003d\u003d\u003d\u003d\u003d\u003d\u003d\u003d\u003d\u003d\u003d\u003d\u003d\u003d\u003d\u003d\u003d\u003d\u003d\u003d\u003d\u003d\u003d\u003d\u003d\u003d\u003d\u003d\u003d\u003d] - 1s 895us/step - loss: 2.8193 - acc: 0.6212\n",
            "Epoch 4/10\n",
            "\r324/800 [\u003d\u003d\u003d\u003d\u003d\u003d\u003d\u003d\u003d\u003d\u003d\u003e..................] - ETA: 0s - loss: 2.5199 - acc: 0.6698",
            "\b\b\b\b\b\b\b\b\b\b\b\b\b\b\b\b\b\b\b\b\b\b\b\b\b\b\b\b\b\b\b\b\b\b\b\b\b\b\b\b\b\b\b\b\b\b\b\b\b\b\b\b\b\b\b\b\b\b\b\b\b\b\b\b\b\b\b\b\b\b\b\b\b\b\b\b\b\b\b\r648/800 [\u003d\u003d\u003d\u003d\u003d\u003d\u003d\u003d\u003d\u003d\u003d\u003d\u003d\u003d\u003d\u003d\u003d\u003d\u003d\u003d\u003d\u003d\u003d\u003e......] - ETA: 0s - loss: 2.3658 - acc: 0.7130",
            "\b\b\b\b\b\b\b\b\b\b\b\b\b\b\b\b\b\b\b\b\b\b\b\b\b\b\b\b\b\b\b\b\b\b\b\b\b\b\b\b\b\b\b\b\b\b\b\b\b\b\b\b\b\b\b\b\b\b\b\b\b\b\b\b\b\b\b\b\b\b\b\b\b\b\b\b\b\b\b\r800/800 [\u003d\u003d\u003d\u003d\u003d\u003d\u003d\u003d\u003d\u003d\u003d\u003d\u003d\u003d\u003d\u003d\u003d\u003d\u003d\u003d\u003d\u003d\u003d\u003d\u003d\u003d\u003d\u003d\u003d\u003d] - 1s 905us/step - loss: 2.2956 - acc: 0.7237\n",
            "Epoch 5/10\n",
            "\r324/800 [\u003d\u003d\u003d\u003d\u003d\u003d\u003d\u003d\u003d\u003d\u003d\u003e..................] - ETA: 0s - loss: 2.1564 - acc: 0.7593",
            "\b\b\b\b\b\b\b\b\b\b\b\b\b\b\b\b\b\b\b\b\b\b\b\b\b\b\b\b\b\b\b\b\b\b\b\b\b\b\b\b\b\b\b\b\b\b\b\b\b\b\b\b\b\b\b\b\b\b\b\b\b\b\b\b\b\b\b\b\b\b\b\b\b\b\b\b\b\b\b\r648/800 [\u003d\u003d\u003d\u003d\u003d\u003d\u003d\u003d\u003d\u003d\u003d\u003d\u003d\u003d\u003d\u003d\u003d\u003d\u003d\u003d\u003d\u003d\u003d\u003e......] - ETA: 0s - loss: 2.0064 - acc: 0.7809",
            "\b\b\b\b\b\b\b\b\b\b\b\b\b\b\b\b\b\b\b\b\b\b\b\b\b\b\b\b\b\b\b\b\b\b\b\b\b\b\b\b\b\b\b\b\b\b\b\b\b\b\b\b\b\b\b\b\b\b\b\b\b\b\b\b\b\b\b\b\b\b\b\b\b\b\b\b\b\b\b\r800/800 [\u003d\u003d\u003d\u003d\u003d\u003d\u003d\u003d\u003d\u003d\u003d\u003d\u003d\u003d\u003d\u003d\u003d\u003d\u003d\u003d\u003d\u003d\u003d\u003d\u003d\u003d\u003d\u003d\u003d\u003d] - 1s 899us/step - loss: 1.9380 - acc: 0.7925\n",
            "Epoch 6/10\n",
            "\r324/800 [\u003d\u003d\u003d\u003d\u003d\u003d\u003d\u003d\u003d\u003d\u003d\u003e..................] - ETA: 0s - loss: 1.8729 - acc: 0.8210",
            "\b\b\b\b\b\b\b\b\b\b\b\b\b\b\b\b\b\b\b\b\b\b\b\b\b\b\b\b\b\b\b\b\b\b\b\b\b\b\b\b\b\b\b\b\b\b\b\b\b\b\b\b\b\b\b\b\b\b\b\b\b\b\b\b\b\b\b\b\b\b\b\b\b\b\b\b\b\b\b\r648/800 [\u003d\u003d\u003d\u003d\u003d\u003d\u003d\u003d\u003d\u003d\u003d\u003d\u003d\u003d\u003d\u003d\u003d\u003d\u003d\u003d\u003d\u003d\u003d\u003e......] - ETA: 0s - loss: 1.6844 - acc: 0.8380",
            "\b\b\b\b\b\b\b\b\b\b\b\b\b\b\b\b\b\b\b\b\b\b\b\b\b\b\b\b\b\b\b\b\b\b\b\b\b\b\b\b\b\b\b\b\b\b\b\b\b\b\b\b\b\b\b\b\b\b\b\b\b\b\b\b\b\b\b\b\b\b\b\b\b\b\b\b\b\b\b\r800/800 [\u003d\u003d\u003d\u003d\u003d\u003d\u003d\u003d\u003d\u003d\u003d\u003d\u003d\u003d\u003d\u003d\u003d\u003d\u003d\u003d\u003d\u003d\u003d\u003d\u003d\u003d\u003d\u003d\u003d\u003d] - 1s 766us/step - loss: 1.7012 - acc: 0.8412\n",
            "Epoch 7/10\n",
            "\r324/800 [\u003d\u003d\u003d\u003d\u003d\u003d\u003d\u003d\u003d\u003d\u003d\u003e..................] - ETA: 0s - loss: 1.9027 - acc: 0.8488",
            "\b\b\b\b\b\b\b\b\b\b\b\b\b\b\b\b\b\b\b\b\b\b\b\b\b\b\b\b\b\b\b\b\b\b\b\b\b\b\b\b\b\b\b\b\b\b\b\b\b\b\b\b\b\b\b\b\b\b\b\b\b\b\b\b\b\b\b\b\b\b\b\b\b\b\b\b\b\b\b\r648/800 [\u003d\u003d\u003d\u003d\u003d\u003d\u003d\u003d\u003d\u003d\u003d\u003d\u003d\u003d\u003d\u003d\u003d\u003d\u003d\u003d\u003d\u003d\u003d\u003e......] - ETA: 0s - loss: 1.6132 - acc: 0.8735",
            "\b\b\b\b\b\b\b\b\b\b\b\b\b\b\b\b\b\b\b\b\b\b\b\b\b\b\b\b\b\b\b\b\b\b\b\b\b\b\b\b\b\b\b\b\b\b\b\b\b\b\b\b\b\b\b\b\b\b\b\b\b\b\b\b\b\b\b\b\b\b\b\b\b\b\b\b\b\b\b\r800/800 [\u003d\u003d\u003d\u003d\u003d\u003d\u003d\u003d\u003d\u003d\u003d\u003d\u003d\u003d\u003d\u003d\u003d\u003d\u003d\u003d\u003d\u003d\u003d\u003d\u003d\u003d\u003d\u003d\u003d\u003d] - 1s 797us/step - loss: 1.5681 - acc: 0.8687\n",
            "Epoch 8/10\n",
            "\r324/800 [\u003d\u003d\u003d\u003d\u003d\u003d\u003d\u003d\u003d\u003d\u003d\u003e..................] - ETA: 0s - loss: 1.2811 - acc: 0.9043",
            "\b\b\b\b\b\b\b\b\b\b\b\b\b\b\b\b\b\b\b\b\b\b\b\b\b\b\b\b\b\b\b\b\b\b\b\b\b\b\b\b\b\b\b\b\b\b\b\b\b\b\b\b\b\b\b\b\b\b\b\b\b\b\b\b\b\b\b\b\b\b\b\b\b\b\b\b\b\b\b\r648/800 [\u003d\u003d\u003d\u003d\u003d\u003d\u003d\u003d\u003d\u003d\u003d\u003d\u003d\u003d\u003d\u003d\u003d\u003d\u003d\u003d\u003d\u003d\u003d\u003e......] - ETA: 0s - loss: 1.4035 - acc: 0.8981",
            "\b\b\b\b\b\b\b\b\b\b\b\b\b\b\b\b\b\b\b\b\b\b\b\b\b\b\b\b\b\b\b\b\b\b\b\b\b\b\b\b\b\b\b\b\b\b\b\b\b\b\b\b\b\b\b\b\b\b\b\b\b\b\b\b\b\b\b\b\b\b\b\b\b\b\b\b\b\b\b\r800/800 [\u003d\u003d\u003d\u003d\u003d\u003d\u003d\u003d\u003d\u003d\u003d\u003d\u003d\u003d\u003d\u003d\u003d\u003d\u003d\u003d\u003d\u003d\u003d\u003d\u003d\u003d\u003d\u003d\u003d\u003d] - 1s 925us/step - loss: 1.4576 - acc: 0.8950\n",
            "Epoch 9/10\n",
            "\r324/800 [\u003d\u003d\u003d\u003d\u003d\u003d\u003d\u003d\u003d\u003d\u003d\u003e..................] - ETA: 0s - loss: 1.3999 - acc: 0.9012",
            "\b\b\b\b\b\b\b\b\b\b\b\b\b\b\b\b\b\b\b\b\b\b\b\b\b\b\b\b\b\b\b\b\b\b\b\b\b\b\b\b\b\b\b\b\b\b\b\b\b\b\b\b\b\b\b\b\b\b\b\b\b\b\b\b\b\b\b\b\b\b\b\b\b\b\b\b\b\b\b\r648/800 [\u003d\u003d\u003d\u003d\u003d\u003d\u003d\u003d\u003d\u003d\u003d\u003d\u003d\u003d\u003d\u003d\u003d\u003d\u003d\u003d\u003d\u003d\u003d\u003e......] - ETA: 0s - loss: 1.3017 - acc: 0.9090",
            "\b\b\b\b\b\b\b\b\b\b\b\b\b\b\b\b\b\b\b\b\b\b\b\b\b\b\b\b\b\b\b\b\b\b\b\b\b\b\b\b\b\b\b\b\b\b\b\b\b\b\b\b\b\b\b\b\b\b\b\b\b\b\b\b\b\b\b\b\b\b\b\b\b\b\b\b\b\b\b\r800/800 [\u003d\u003d\u003d\u003d\u003d\u003d\u003d\u003d\u003d\u003d\u003d\u003d\u003d\u003d\u003d\u003d\u003d\u003d\u003d\u003d\u003d\u003d\u003d\u003d\u003d\u003d\u003d\u003d\u003d\u003d] - 1s 809us/step - loss: 1.3273 - acc: 0.9088\n",
            "Epoch 10/10\n",
            "\r324/800 [\u003d\u003d\u003d\u003d\u003d\u003d\u003d\u003d\u003d\u003d\u003d\u003e..................] - ETA: 0s - loss: 1.1367 - acc: 0.9228",
            "\b\b\b\b\b\b\b\b\b\b\b\b\b\b\b\b\b\b\b\b\b\b\b\b\b\b\b\b\b\b\b\b\b\b\b\b\b\b\b\b\b\b\b\b\b\b\b\b\b\b\b\b\b\b\b\b\b\b\b\b\b\b\b\b\b\b\b\b\b\b\b\b\b\b\b\b\b\b\b\r648/800 [\u003d\u003d\u003d\u003d\u003d\u003d\u003d\u003d\u003d\u003d\u003d\u003d\u003d\u003d\u003d\u003d\u003d\u003d\u003d\u003d\u003d\u003d\u003d\u003e......] - ETA: 0s - loss: 1.2539 - acc: 0.9182",
            "\b\b\b\b\b\b\b\b\b\b\b\b\b\b\b\b\b\b\b\b\b\b\b\b\b\b\b\b\b\b\b\b\b\b\b\b\b\b\b\b\b\b\b\b\b\b\b\b\b\b\b\b\b\b\b\b\b\b\b\b\b\b\b\b\b\b\b\b\b\b\b\b\b\b\b\b\b\b\b\r800/800 [\u003d\u003d\u003d\u003d\u003d\u003d\u003d\u003d\u003d\u003d\u003d\u003d\u003d\u003d\u003d\u003d\u003d\u003d\u003d\u003d\u003d\u003d\u003d\u003d\u003d\u003d\u003d\u003d\u003d\u003d] - 1s 784us/step - loss: 1.3022 - acc: 0.9163\n",
            "\r 32/496 [\u003e.............................] - ETA: 1s",
            "\b\b\b\b\b\b\b\b\b\b\b\b\b\b\b\b\b\b\b\b\b\b\b\b\b\b\b\b\b\b\b\b\b\b\b\b\b\b\b\b\b\b\b\b\b\b\b\b\b\b\r128/496 [\u003d\u003d\u003d\u003d\u003d\u003d\u003e.......................] - ETA: 0s",
            "\b\b\b\b\b\b\b\b\b\b\b\b\b\b\b\b\b\b\b\b\b\b\b\b\b\b\b\b\b\b\b\b\b\b\b\b\b\b\b\b\b\b\b\b\b\b\b\b\b\b\r224/496 [\u003d\u003d\u003d\u003d\u003d\u003d\u003d\u003d\u003d\u003d\u003d\u003d\u003e.................] - ETA: 0s",
            "\b\b\b\b\b\b\b\b\b\b\b\b\b\b\b\b\b\b\b\b\b\b\b\b\b\b\b\b\b\b\b\b\b\b\b\b\b\b\b\b\b\b\b\b\b\b\b\b\b\b\r352/496 [\u003d\u003d\u003d\u003d\u003d\u003d\u003d\u003d\u003d\u003d\u003d\u003d\u003d\u003d\u003d\u003d\u003d\u003d\u003d\u003d\u003e.........] - ETA: 0s",
            "\b\b\b\b\b\b\b\b\b\b\b\b\b\b\b\b\b\b\b\b\b\b\b\b\b\b\b\b\b\b\b\b\b\b\b\b\b\b\b\b\b\b\b\b\b\b\b\b\b\b\r448/496 [\u003d\u003d\u003d\u003d\u003d\u003d\u003d\u003d\u003d\u003d\u003d\u003d\u003d\u003d\u003d\u003d\u003d\u003d\u003d\u003d\u003d\u003d\u003d\u003d\u003d\u003d\u003e...] - ETA: 0s",
            "\b\b\b\b\b\b\b\b\b\b\b\b\b\b\b\b\b\b\b\b\b\b\b\b\b\b\b\b\b\b\b\b\b\b\b\b\b\b\b\b\b\b\b\b\b\b\b\b\b\b\r496/496 [\u003d\u003d\u003d\u003d\u003d\u003d\u003d\u003d\u003d\u003d\u003d\u003d\u003d\u003d\u003d\u003d\u003d\u003d\u003d\u003d\u003d\u003d\u003d\u003d\u003d\u003d\u003d\u003d\u003d\u003d] - 0s 749us/step\n"
          ],
          "output_type": "stream"
        }
      ],
      "source": "import numpy as np\nfrom keras import models\nfrom keras.layers import Dense\nfrom sklearn.preprocessing import OneHotEncoder\n\n#three-way classification with NN\nX_train \u003d X_all[:800]\nX_val \u003d X_all[800:]\n\n#need to one-hot encode the Y labels\nenc \u003d OneHotEncoder()\n#cited from https://machinelearningmastery.com/multi-class-classification-tutorial-keras-deep-learning-library/\nY \u003d enc.fit_transform(Y_all[:, np.newaxis]).toarray()\nY_train \u003d Y[:800]\nY_val \u003d Y[800:]\n\n#DNN on all 4 subjects (1294 trials)\nmodel \u003d models.Sequential()\nmodel.add(Dense(32, input_dim \u003d 39912, activation\u003d\u0027relu\u0027))\nmodel.add(Dense(16, input_dim \u003d 32, activation\u003d\u0027relu\u0027))\nmodel.add(Dense(3, activation\u003d\u0027softmax\u0027))\nmodel.summary()\n\nmodel.compile(optimizer\u003d\u0027adam\u0027, loss\u003d\u0027categorical_crossentropy\u0027, metrics\u003d[\u0027accuracy\u0027])\nmodel.fit(X_train, Y_train, batch_size\u003d324, epochs\u003d10, verbose\u003d1)\nscore \u003d model.evaluate(X_val, Y_val)\n",
      "metadata": {
        "pycharm": {
          "metadata": false,
          "name": "#%%\n",
          "is_executing": false
        }
      }
    },
    {
      "cell_type": "markdown",
      "source": "Model with all four subjects data\nTrain loss:",
      "metadata": {
        "pycharm": {
          "metadata": false,
          "name": "#%% md\n"
        }
      }
    },
    {
      "cell_type": "code",
      "execution_count": 11,
      "outputs": [
        {
          "data": {
            "text/plain": "5.149821404487856"
          },
          "metadata": {},
          "output_type": "execute_result",
          "execution_count": 11
        }
      ],
      "source": "score[0]",
      "metadata": {
        "pycharm": {
          "metadata": false,
          "name": "#%%\n",
          "is_executing": false
        }
      }
    },
    {
      "cell_type": "markdown",
      "source": "Train accuracy: ",
      "metadata": {
        "pycharm": {
          "metadata": false,
          "name": "#%% md\n"
        }
      }
    },
    {
      "cell_type": "code",
      "execution_count": 12,
      "outputs": [
        {
          "data": {
            "text/plain": "0.40524193548387094"
          },
          "metadata": {},
          "output_type": "execute_result",
          "execution_count": 12
        }
      ],
      "source": "score[1]\n",
      "metadata": {
        "pycharm": {
          "metadata": false,
          "name": "#%% \n",
          "is_executing": false
        }
      }
    },
    {
      "cell_type": "markdown",
      "source": "**Three-way classification with Convolutional Neural Network**  \nAgain, CNN are a different class of model specializing in image classification. Here I use a form of the original brain scans instead of the masker-transformed voxel time series. ",
      "metadata": {
        "pycharm": {
          "metadata": false,
          "name": "#%% md\n"
        }
      }
    },
    {
      "cell_type": "code",
      "execution_count": 14,
      "outputs": [
        {
          "name": "stdout",
          "text": [
            "length of all trials:  1452\n",
            "Shape of input:  (250, 40, 64, 64)\nContent of input:  [[[[ 0  0  0 ...  0  0  0]\n   [10  8 17 ...  0  0  0]\n   [ 9  8 12 ...  0  0  0]\n   ...\n   [ 0  0  0 ...  0  0  0]\n   [ 0  0  0 ...  0  0  0]\n   [ 0  0  0 ...  0  0  0]]\n\n  [[ 0  0  0 ... 14  9  0]\n   [14 21 16 ... 17  7  0]\n   [ 8 12 10 ... 18  5  0]\n   ...\n   [ 0  7 14 ... 12 12  7]\n   [ 0  9 12 ... 13 12  4]\n   [ 0  9 12 ...  0  0  0]]\n\n  [[ 0  0  0 ...  8  7  0]\n   [17 20 18 ... 10  5  0]\n   [11 17 17 ... 15  6  0]\n   ...\n   [ 0 20 19 ... 18 18 15]\n   [ 0 26 24 ... 13 13 11]\n   [ 0 17 17 ...  0  0  0]]\n\n  ...\n\n  [[ 0  0  0 ... 23 12  0]\n   [20 20 31 ... 17  7  0]\n   [17 22 25 ... 16  8  0]\n   ...\n   [ 0 23 17 ... 29 27 11]\n   [ 0 18 16 ... 27 20  8]\n   [ 0 11 18 ...  0  0  0]]\n\n  [[ 0  0  0 ... 13  4  0]\n   [10 14 22 ...  7  3  0]\n   [11 14 15 ... 11  4  0]\n   ...\n   [ 0 10  8 ... 14 14  8]\n   [ 0  7 11 ... 14 13  9]\n   [ 0  8 14 ...  0  0  0]]\n\n  [[ 0  0  0 ...  7  3  0]\n   [ 0  0  0 ...  7  2  0]\n   [ 0  0  0 ... 11  4  0]\n   ...\n   [ 0  6  8 ... 12 10  5]\n   [ 0  5 11 ... 10 12  9]\n   [ 0  4 12 ...  0  0  0]]]\n\n\n [[[ 0  0  0 ...  0  0  0]\n   [ 0  0  0 ...  0  0  0]\n   [ 0  0  0 ...  0  0  0]\n   ...\n   [ 0  0  0 ...  0  0  0]\n   [ 0  0  0 ...  0  0  0]\n   [ 0  0  0 ...  0  0  0]]\n\n  [[ 0  0  0 ... 13  7  0]\n   [15 17 18 ... 17  7  0]\n   [14 21 18 ... 12  5  0]\n   ...\n   [ 0  5  7 ... 15 10  4]\n   [ 0  6  8 ... 14 12  8]\n   [ 0 11 11 ...  0  0  0]]\n\n  [[ 0  0  0 ...  8  7  0]\n   [10  9  7 ...  8  5  0]\n   [ 6  9  9 ...  7  3  0]\n   ...\n   [ 0 12 11 ... 18  8  6]\n   [ 0 15 13 ... 18  9  8]\n   [ 0 11 14 ...  0  0  0]]\n\n  ...\n\n  [[ 0  0  0 ... 16 11  0]\n   [15 23 31 ... 17 10  0]\n   [10 15 17 ... 16  7  0]\n   ...\n   [ 0 20 30 ... 24 29 16]\n   [ 0 22 22 ... 17 22 11]\n   [ 0 16 17 ...  0  0  0]]\n\n  [[ 0  0  0 ... 16  8  0]\n   [11 13 16 ... 13  9  0]\n   [12 12 12 ... 14  7  0]\n   ...\n   [ 0 12 16 ... 13  9  6]\n   [ 0  9 14 ...  9 11  7]\n   [ 0 11 18 ...  0  0  0]]\n\n  [[ 0  0  0 ... 21  8  0]\n   [ 6 14 22 ... 19  7  0]\n   [10 19 23 ... 11  6  0]\n   ...\n   [ 0  9 15 ... 17  9  6]\n   [ 0 15 21 ... 20 11  6]\n   [ 0 18 23 ...  0  0  0]]]\n\n\n [[[ 0  0  0 ...  0  0  0]\n   [ 8 14 21 ...  0  0  0]\n   [12 20 22 ...  0  0  0]\n   ...\n   [ 0  0  0 ...  0  0  0]\n   [ 0  0  0 ...  0  0  0]\n   [ 0  0  0 ...  0  0  0]]\n\n  [[ 0  0  0 ... 14  4  0]\n   [11 15 18 ... 14  3  0]\n   [12 11 13 ...  9  4  0]\n   ...\n   [ 0 10 23 ... 12  8  3]\n   [ 0 10 19 ... 16  9  5]\n   [ 0  8 11 ...  0  0  0]]\n\n  [[ 0  0  0 ... 14  7  0]\n   [12 16 12 ...  8  3  0]\n   [ 6 11 18 ... 10  3  0]\n   ...\n   [ 0 16 15 ... 22 19 13]\n   [ 0 20 24 ... 21 16 12]\n   [ 0 20 20 ...  0  0  0]]\n\n  ...\n\n  [[ 0  0  0 ... 17  5  0]\n   [27 29 26 ... 12  7  0]\n   [24 26 17 ... 11  3  0]\n   ...\n   [ 0 32 28 ... 19 13 10]\n   [ 0 26 24 ... 16 12  8]\n   [ 0 13 15 ...  0  0  0]]\n\n  [[ 0  0  0 ... 17  5  0]\n   [ 7 12 17 ... 13  5  0]\n   [ 6 15 19 ... 13  3  0]\n   ...\n   [ 0 15 16 ... 15 13  8]\n   [ 0 11 14 ... 14 12  7]\n   [ 0  9 15 ...  0  0  0]]\n\n  [[ 0  0  0 ... 13  5  0]\n   [ 0  0  0 ... 14  3  0]\n   [ 0  0  0 ... 13  4  0]\n   ...\n   [ 0  9  9 ... 12 12  8]\n   [ 0 13 11 ... 13 14 10]\n   [ 0 18 12 ...  0  0  0]]]\n\n\n ...\n\n\n [[[ 8 18 19 ...  0  0  0]\n   [11 11 19 ... 15 14  0]\n   [ 9 10 37 ... 20  9  0]\n   ...\n   [ 0  0  0 ...  0  0  0]\n   [ 0  0  0 ...  0  0  0]\n   [ 0  0  0 ...  0  0  0]]\n\n  [[12 26  6 ...  0  0  0]\n   [10 19 23 ... 12 13  0]\n   [13 19  8 ...  9 13  0]\n   ...\n   [ 8 15 20 ...  6  4  0]\n   [17 16 11 ... 17  5  0]\n   [ 0  0  0 ... 14  7  0]]\n\n  [[16 22 21 ...  0  0  0]\n   [ 7  9 19 ...  8 13  0]\n   [ 8 15 22 ... 19 10  0]\n   ...\n   [13 15 12 ...  5  4  0]\n   [13  9 12 ... 11  5  0]\n   [ 0  0  0 ... 15  6  0]]\n\n  ...\n\n  [[ 0 27 26 ...  0  0  0]\n   [ 0 30 38 ... 47 21  0]\n   [ 0 12 17 ... 14 10  0]\n   ...\n   [25 27 24 ... 23 21  0]\n   [30 27 25 ... 23  7  0]\n   [ 0  0  0 ... 27  3  0]]\n\n  [[ 0  7 24 ...  0  0  0]\n   [ 0 19 22 ... 17  6  0]\n   [ 0 11 26 ... 26 14  0]\n   ...\n   [ 9 15 15 ... 15  5  0]\n   [13 18 17 ...  9  2  0]\n   [ 0  0  0 ... 22 10  0]]\n\n  [[ 0  0  0 ...  0  0  0]\n   [ 0  0  0 ...  0  0  0]\n   [ 0  0  0 ...  0  0  0]\n   ...\n   [ 6 12 18 ... 11  7  0]\n   [ 9 12 18 ... 16 15  0]\n   [ 0  0  0 ... 12  8  0]]]\n\n\n [[[ 0 11 10 ...  0  0  0]\n   [ 0 14 12 ...  9  7  0]\n   [ 0  9 18 ... 16 10  0]\n   ...\n   [ 0  0  0 ...  0  0  0]\n   [ 0  0  0 ...  0  0  0]\n   [ 0  0  0 ...  0  0  0]]\n\n  [[ 0  9  8 ...  0  0  0]\n   [ 0  9 16 ... 16  5  0]\n   [ 0 16 22 ... 12  4  0]\n   ...\n   [ 5  9 17 ...  6  4  0]\n   [ 9 18 16 ... 11  6  0]\n   [ 0  0  0 ...  9  4  0]]\n\n  [[ 0 17 31 ...  0  0  0]\n   [ 0  9 14 ...  5  9  0]\n   [ 0 13 23 ... 13  6  0]\n   ...\n   [11  8 16 ... 12  3  0]\n   [ 9  7 14 ... 14  6  0]\n   [ 0  0  0 ...  7  3  0]]\n\n  ...\n\n  [[ 8 34 23 ...  0  0  0]\n   [11 37 27 ... 37 17  0]\n   [12 20 20 ... 16  7  0]\n   ...\n   [22 33 37 ... 20  5  0]\n   [29 32 32 ... 18  6  0]\n   [ 0  0  0 ... 15 10  0]]\n\n  [[10 18 11 ...  0  0  0]\n   [10 18 13 ... 14 14  0]\n   [ 6 13 19 ...  7 18  0]\n   ...\n   [14 15 20 ... 13  7  0]\n   [10 11 16 ...  7  7  0]\n   [ 0  0  0 ...  8  8  0]]\n\n  [[ 0  0  0 ...  0  0  0]\n   [ 0  0  0 ...  0  0  0]\n   [ 0  0  0 ...  0  0  0]\n   ...\n   [12 12 25 ... 18  9  0]\n   [ 5 10 15 ... 14 13  0]\n   [ 0  0  0 ... 13 11  0]]]\n\n\n [[[ 0  9  8 ...  0  0  0]\n   [ 0 18 14 ... 17 10  0]\n   [ 0 15 23 ... 12 11  0]\n   ...\n   [ 0  0  0 ...  0  0  0]\n   [ 0  0  0 ...  0  0  0]\n   [ 0  0  0 ...  0  0  0]]\n\n  [[ 0 16 17 ...  0  0  0]\n   [ 0 21 21 ... 22 17  0]\n   [ 0 31 25 ... 20 19  0]\n   ...\n   [ 9 10  8 ... 13  5  0]\n   [16 14 21 ... 20  7  0]\n   [ 0  0  0 ...  8  5  0]]\n\n  [[ 0 21 22 ...  0  0  0]\n   [ 0  8 22 ... 16 12  0]\n   [ 0  6 31 ... 15 12  0]\n   ...\n   [18 19 11 ... 12  6  0]\n   [22 12 11 ... 22  8  0]\n   [ 0  0  0 ...  7  6  0]]\n\n  ...\n\n  [[16 11 13 ...  0  0  0]\n   [24 12 12 ... 26 41  0]\n   [11 16 23 ... 19 12  0]\n   ...\n   [25 16 24 ... 23 20  0]\n   [16 20 23 ... 20 17  0]\n   [ 0  0  0 ... 22 19  0]]\n\n  [[ 9  9 20 ...  0  0  0]\n   [11 11 26 ... 15 20  0]\n   [11 12 35 ... 16 14  0]\n   ...\n   [11 12 18 ... 10  9  0]\n   [10 17 31 ... 15 12  0]\n   [ 0  0  0 ... 26 13  0]]\n\n  [[ 0  0  0 ...  0  0  0]\n   [ 0  0  0 ...  0  0  0]\n   [ 0  0  0 ...  0  0  0]\n   ...\n   [ 8 13  7 ... 11  7  0]\n   [12 19 16 ... 21  7  0]\n   [ 0  0  0 ... 15 10  0]]]]\n_________________________________________________________________\nLayer (type)                 Output Shape              Param #   \n\u003d\u003d\u003d\u003d\u003d\u003d\u003d\u003d\u003d\u003d\u003d\u003d\u003d\u003d\u003d\u003d\u003d\u003d\u003d\u003d\u003d\u003d\u003d\u003d\u003d\u003d\u003d\u003d\u003d\u003d\u003d\u003d\u003d\u003d\u003d\u003d\u003d\u003d\u003d\u003d\u003d\u003d\u003d\u003d\u003d\u003d\u003d\u003d\u003d\u003d\u003d\u003d\u003d\u003d\u003d\u003d\u003d\u003d\u003d\u003d\u003d\u003d\u003d\u003d\u003d\nconv2d_4 (Conv2D)            (None, 38, 62, 32)        18464     \n_________________________________________________________________\nmax_pooling2d_3 (MaxPooling2 (None, 19, 31, 32)        0         \n_________________________________________________________________\nconv2d_5 (Conv2D)            (None, 17, 29, 64)        18496     \n_________________________________________________________________\nmax_pooling2d_4 (MaxPooling2 (None, 8, 14, 64)         0         \n_________________________________________________________________\nconv2d_6 (Conv2D)            (None, 6, 12, 64)         36928     \n_________________________________________________________________\nflatten_2 (Flatten)          (None, 4608)              0         \n_________________________________________________________________\ndense_6 (Dense)              (None, 64)                294976    \n_________________________________________________________________\ndense_7 (Dense)              (None, 3)                 195       \n\u003d\u003d\u003d\u003d\u003d\u003d\u003d\u003d\u003d\u003d\u003d\u003d\u003d\u003d\u003d\u003d\u003d\u003d\u003d\u003d\u003d\u003d\u003d\u003d\u003d\u003d\u003d\u003d\u003d\u003d\u003d\u003d\u003d\u003d\u003d\u003d\u003d\u003d\u003d\u003d\u003d\u003d\u003d\u003d\u003d\u003d\u003d\u003d\u003d\u003d\u003d\u003d\u003d\u003d\u003d\u003d\u003d\u003d\u003d\u003d\u003d\u003d\u003d\u003d\u003d\nTotal params: 369,059\nTrainable params: 369,059\nNon-trainable params: 0\n_________________________________________________________________\n",
            "Epoch 1/5\n",
            "\r 20/250 [\u003d\u003e............................] - ETA: 9s - loss: 8.5022 - acc: 0.4000",
            "\b\b\b\b\b\b\b\b\b\b\b\b\b\b\b\b\b\b\b\b\b\b\b\b\b\b\b\b\b\b\b\b\b\b\b\b\b\b\b\b\b\b\b\b\b\b\b\b\b\b\b\b\b\b\b\b\b\b\b\b\b\b\b\b\b\b\b\b\b\b\b\b\b\b\b\b\b\b\b\r 40/250 [\u003d\u003d\u003d\u003e..........................] - ETA: 7s - loss: 9.0865 - acc: 0.4000",
            "\b\b\b\b\b\b\b\b\b\b\b\b\b\b\b\b\b\b\b\b\b\b\b\b\b\b\b\b\b\b\b\b\b\b\b\b\b\b\b\b\b\b\b\b\b\b\b\b\b\b\b\b\b\b\b\b\b\b\b\b\b\b\b\b\b\b\b\b\b\b\b\b\b\b\b\b\b\b\b\r 60/250 [\u003d\u003d\u003d\u003d\u003d\u003d\u003e.......................] - ETA: 6s - loss: 9.5499 - acc: 0.3833",
            "\b\b\b\b\b\b\b\b\b\b\b\b\b\b\b\b\b\b\b\b\b\b\b\b\b\b\b\b\b\b\b\b\b\b\b\b\b\b\b\b\b\b\b\b\b\b\b\b\b\b\b\b\b\b\b\b\b\b\b\b\b\b\b\b\b\b\b\b\b\b\b\b\b\b\b\b\b\b\b\r 80/250 [\u003d\u003d\u003d\u003d\u003d\u003d\u003d\u003d\u003e.....................] - ETA: 5s - loss: 9.5802 - acc: 0.3875",
            "\b\b\b\b\b\b\b\b\b\b\b\b\b\b\b\b\b\b\b\b\b\b\b\b\b\b\b\b\b\b\b\b\b\b\b\b\b\b\b\b\b\b\b\b\b\b\b\b\b\b\b\b\b\b\b\b\b\b\b\b\b\b\b\b\b\b\b\b\b\b\b\b\b\b\b\b\b\b\b\r100/250 [\u003d\u003d\u003d\u003d\u003d\u003d\u003d\u003d\u003d\u003d\u003d\u003e..................] - ETA: 4s - loss: 9.4371 - acc: 0.4000",
            "\b\b\b\b\b\b\b\b\b\b\b\b\b\b\b\b\b\b\b\b\b\b\b\b\b\b\b\b\b\b\b\b\b\b\b\b\b\b\b\b\b\b\b\b\b\b\b\b\b\b\b\b\b\b\b\b\b\b\b\b\b\b\b\b\b\b\b\b\b\b\b\b\b\b\b\b\b\b\b\r120/250 [\u003d\u003d\u003d\u003d\u003d\u003d\u003d\u003d\u003d\u003d\u003d\u003d\u003d\u003e................] - ETA: 3s - loss: 9.7447 - acc: 0.3833",
            "\b\b\b\b\b\b\b\b\b\b\b\b\b\b\b\b\b\b\b\b\b\b\b\b\b\b\b\b\b\b\b\b\b\b\b\b\b\b\b\b\b\b\b\b\b\b\b\b\b\b\b\b\b\b\b\b\b\b\b\b\b\b\b\b\b\b\b\b\b\b\b\b\b\b\b\b\b\b\b\r140/250 [\u003d\u003d\u003d\u003d\u003d\u003d\u003d\u003d\u003d\u003d\u003d\u003d\u003d\u003d\u003d\u003e..............] - ETA: 3s - loss: 9.9644 - acc: 0.3714",
            "\b\b\b\b\b\b\b\b\b\b\b\b\b\b\b\b\b\b\b\b\b\b\b\b\b\b\b\b\b\b\b\b\b\b\b\b\b\b\b\b\b\b\b\b\b\b\b\b\b\b\b\b\b\b\b\b\b\b\b\b\b\b\b\b\b\b\b\b\b\b\b\b\b\b\b\b\b\b\b\r160/250 [\u003d\u003d\u003d\u003d\u003d\u003d\u003d\u003d\u003d\u003d\u003d\u003d\u003d\u003d\u003d\u003d\u003d\u003d\u003e...........] - ETA: 2s - loss: 10.0285 - acc: 0.3688",
            "\b\b\b\b\b\b\b\b\b\b\b\b\b\b\b\b\b\b\b\b\b\b\b\b\b\b\b\b\b\b\b\b\b\b\b\b\b\b\b\b\b\b\b\b\b\b\b\b\b\b\b\b\b\b\b\b\b\b\b\b\b\b\b\b\b\b\b\b\b\b\b\b\b\b\b\b\b\b\b\b\r180/250 [\u003d\u003d\u003d\u003d\u003d\u003d\u003d\u003d\u003d\u003d\u003d\u003d\u003d\u003d\u003d\u003d\u003d\u003d\u003d\u003d\u003e.........] - ETA: 2s - loss: 10.4365 - acc: 0.3444",
            "\b\b\b\b\b\b\b\b\b\b\b\b\b\b\b\b\b\b\b\b\b\b\b\b\b\b\b\b\b\b\b\b\b\b\b\b\b\b\b\b\b\b\b\b\b\b\b\b\b\b\b\b\b\b\b\b\b\b\b\b\b\b\b\b\b\b\b\b\b\b\b\b\b\b\b\b\b\b\b\b\r200/250 [\u003d\u003d\u003d\u003d\u003d\u003d\u003d\u003d\u003d\u003d\u003d\u003d\u003d\u003d\u003d\u003d\u003d\u003d\u003d\u003d\u003d\u003d\u003d\u003e......] - ETA: 1s - loss: 10.2793 - acc: 0.3550",
            "\b\b\b\b\b\b\b\b\b\b\b\b\b\b\b\b\b\b\b\b\b\b\b\b\b\b\b\b\b\b\b\b\b\b\b\b\b\b\b\b\b\b\b\b\b\b\b\b\b\b\b\b\b\b\b\b\b\b\b\b\b\b\b\b\b\b\b\b\b\b\b\b\b\b\b\b\b\b\b\b\r220/250 [\u003d\u003d\u003d\u003d\u003d\u003d\u003d\u003d\u003d\u003d\u003d\u003d\u003d\u003d\u003d\u003d\u003d\u003d\u003d\u003d\u003d\u003d\u003d\u003d\u003d\u003e....] - ETA: 0s - loss: 10.2240 - acc: 0.3591",
            "\b\b\b\b\b\b\b\b\b\b\b\b\b\b\b\b\b\b\b\b\b\b\b\b\b\b\b\b\b\b\b\b\b\b\b\b\b\b\b\b\b\b\b\b\b\b\b\b\b\b\b\b\b\b\b\b\b\b\b\b\b\b\b\b\b\b\b\b\b\b\b\b\b\b\b\b\b\b\b\b\r240/250 [\u003d\u003d\u003d\u003d\u003d\u003d\u003d\u003d\u003d\u003d\u003d\u003d\u003d\u003d\u003d\u003d\u003d\u003d\u003d\u003d\u003d\u003d\u003d\u003d\u003d\u003d\u003d\u003e..] - ETA: 0s - loss: 10.3122 - acc: 0.3542",
            "\b\b\b\b\b\b\b\b\b\b\b\b\b\b\b\b\b\b\b\b\b\b\b\b\b\b\b\b\b\b\b\b\b\b\b\b\b\b\b\b\b\b\b\b\b\b\b\b\b\b\b\b\b\b\b\b\b\b\b\b\b\b\b\b\b\b\b\b\b\b\b\b\b\b\b\b\b\b\b\b\r250/250 [\u003d\u003d\u003d\u003d\u003d\u003d\u003d\u003d\u003d\u003d\u003d\u003d\u003d\u003d\u003d\u003d\u003d\u003d\u003d\u003d\u003d\u003d\u003d\u003d\u003d\u003d\u003d\u003d\u003d\u003d] - 8s 33ms/step - loss: 10.2866 - acc: 0.3560\n",
            "Epoch 2/5\n",
            "\r 20/250 [\u003d\u003e............................] - ETA: 7s - loss: 10.4768 - acc: 0.3500",
            "\b\b\b\b\b\b\b\b\b\b\b\b\b\b\b\b\b\b\b\b\b\b\b\b\b\b\b\b\b\b\b\b\b\b\b\b\b\b\b\b\b\b\b\b\b\b\b\b\b\b\b\b\b\b\b\b\b\b\b\b\b\b\b\b\b\b\b\b\b\b\b\b\b\b\b\b\b\b\b\b\r 40/250 [\u003d\u003d\u003d\u003e..........................] - ETA: 6s - loss: 10.4768 - acc: 0.3500",
            "\b\b\b\b\b\b\b\b\b\b\b\b\b\b\b\b\b\b\b\b\b\b\b\b\b\b\b\b\b\b\b\b\b\b\b\b\b\b\b\b\b\b\b\b\b\b\b\b\b\b\b\b\b\b\b\b\b\b\b\b\b\b\b\b\b\b\b\b\b\b\b\b\b\b\b\b\b\b\b\b\r 60/250 [\u003d\u003d\u003d\u003d\u003d\u003d\u003e.......................] - ETA: 6s - loss: 10.4768 - acc: 0.3500",
            "\b\b\b\b\b\b\b\b\b\b\b\b\b\b\b\b\b\b\b\b\b\b\b\b\b\b\b\b\b\b\b\b\b\b\b\b\b\b\b\b\b\b\b\b\b\b\b\b\b\b\b\b\b\b\b\b\b\b\b\b\b\b\b\b\b\b\b\b\b\b\b\b\b\b\b\b\b\b\b\b\r 80/250 [\u003d\u003d\u003d\u003d\u003d\u003d\u003d\u003d\u003e.....................] - ETA: 5s - loss: 10.8797 - acc: 0.3250",
            "\b\b\b\b\b\b\b\b\b\b\b\b\b\b\b\b\b\b\b\b\b\b\b\b\b\b\b\b\b\b\b\b\b\b\b\b\b\b\b\b\b\b\b\b\b\b\b\b\b\b\b\b\b\b\b\b\b\b\b\b\b\b\b\b\b\b\b\b\b\b\b\b\b\b\b\b\b\b\b\b\r100/250 [\u003d\u003d\u003d\u003d\u003d\u003d\u003d\u003d\u003d\u003d\u003d\u003e..................] - ETA: 5s - loss: 10.7991 - acc: 0.3300",
            "\b\b\b\b\b\b\b\b\b\b\b\b\b\b\b\b\b\b\b\b\b\b\b\b\b\b\b\b\b\b\b\b\b\b\b\b\b\b\b\b\b\b\b\b\b\b\b\b\b\b\b\b\b\b\b\b\b\b\b\b\b\b\b\b\b\b\b\b\b\b\b\b\b\b\b\b\b\b\b\b\r120/250 [\u003d\u003d\u003d\u003d\u003d\u003d\u003d\u003d\u003d\u003d\u003d\u003d\u003d\u003e................] - ETA: 4s - loss: 10.8797 - acc: 0.3250",
            "\b\b\b\b\b\b\b\b\b\b\b\b\b\b\b\b\b\b\b\b\b\b\b\b\b\b\b\b\b\b\b\b\b\b\b\b\b\b\b\b\b\b\b\b\b\b\b\b\b\b\b\b\b\b\b\b\b\b\b\b\b\b\b\b\b\b\b\b\b\b\b\b\b\b\b\b\b\b\b\b\r140/250 [\u003d\u003d\u003d\u003d\u003d\u003d\u003d\u003d\u003d\u003d\u003d\u003d\u003d\u003d\u003d\u003e..............] - ETA: 3s - loss: 10.9373 - acc: 0.3214",
            "\b\b\b\b\b\b\b\b\b\b\b\b\b\b\b\b\b\b\b\b\b\b\b\b\b\b\b\b\b\b\b\b\b\b\b\b\b\b\b\b\b\b\b\b\b\b\b\b\b\b\b\b\b\b\b\b\b\b\b\b\b\b\b\b\b\b\b\b\b\b\b\b\b\b\b\b\b\b\b\b\r160/250 [\u003d\u003d\u003d\u003d\u003d\u003d\u003d\u003d\u003d\u003d\u003d\u003d\u003d\u003d\u003d\u003d\u003d\u003d\u003e...........] - ETA: 3s - loss: 10.7790 - acc: 0.3313",
            "\b\b\b\b\b\b\b\b\b\b\b\b\b\b\b\b\b\b\b\b\b\b\b\b\b\b\b\b\b\b\b\b\b\b\b\b\b\b\b\b\b\b\b\b\b\b\b\b\b\b\b\b\b\b\b\b\b\b\b\b\b\b\b\b\b\b\b\b\b\b\b\b\b\b\b\b\b\b\b\b\r180/250 [\u003d\u003d\u003d\u003d\u003d\u003d\u003d\u003d\u003d\u003d\u003d\u003d\u003d\u003d\u003d\u003d\u003d\u003d\u003d\u003d\u003e.........] - ETA: 2s - loss: 10.2977 - acc: 0.3611",
            "\b\b\b\b\b\b\b\b\b\b\b\b\b\b\b\b\b\b\b\b\b\b\b\b\b\b\b\b\b\b\b\b\b\b\b\b\b\b\b\b\b\b\b\b\b\b\b\b\b\b\b\b\b\b\b\b\b\b\b\b\b\b\b\b\b\b\b\b\b\b\b\b\b\b\b\b\b\b\b\b\r200/250 [\u003d\u003d\u003d\u003d\u003d\u003d\u003d\u003d\u003d\u003d\u003d\u003d\u003d\u003d\u003d\u003d\u003d\u003d\u003d\u003d\u003d\u003d\u003d\u003e......] - ETA: 1s - loss: 10.3962 - acc: 0.3550",
            "\b\b\b\b\b\b\b\b\b\b\b\b\b\b\b\b\b\b\b\b\b\b\b\b\b\b\b\b\b\b\b\b\b\b\b\b\b\b\b\b\b\b\b\b\b\b\b\b\b\b\b\b\b\b\b\b\b\b\b\b\b\b\b\b\b\b\b\b\b\b\b\b\b\b\b\b\b\b\b\b\r220/250 [\u003d\u003d\u003d\u003d\u003d\u003d\u003d\u003d\u003d\u003d\u003d\u003d\u003d\u003d\u003d\u003d\u003d\u003d\u003d\u003d\u003d\u003d\u003d\u003d\u003d\u003e....] - ETA: 1s - loss: 10.4035 - acc: 0.3545",
            "\b\b\b\b\b\b\b\b\b\b\b\b\b\b\b\b\b\b\b\b\b\b\b\b\b\b\b\b\b\b\b\b\b\b\b\b\b\b\b\b\b\b\b\b\b\b\b\b\b\b\b\b\b\b\b\b\b\b\b\b\b\b\b\b\b\b\b\b\b\b\b\b\b\b\b\b\b\b\b\b\r240/250 [\u003d\u003d\u003d\u003d\u003d\u003d\u003d\u003d\u003d\u003d\u003d\u003d\u003d\u003d\u003d\u003d\u003d\u003d\u003d\u003d\u003d\u003d\u003d\u003d\u003d\u003d\u003d\u003e..] - ETA: 0s - loss: 10.4096 - acc: 0.3542",
            "\b\b\b\b\b\b\b\b\b\b\b\b\b\b\b\b\b\b\b\b\b\b\b\b\b\b\b\b\b\b\b\b\b\b\b\b\b\b\b\b\b\b\b\b\b\b\b\b\b\b\b\b\b\b\b\b\b\b\b\b\b\b\b\b\b\b\b\b\b\b\b\b\b\b\b\b\b\b\b\b\r250/250 [\u003d\u003d\u003d\u003d\u003d\u003d\u003d\u003d\u003d\u003d\u003d\u003d\u003d\u003d\u003d\u003d\u003d\u003d\u003d\u003d\u003d\u003d\u003d\u003d\u003d\u003d\u003d\u003d\u003d\u003d] - 9s 35ms/step - loss: 10.4445 - acc: 0.3520\n",
            "Epoch 3/5\n",
            "\r 20/250 [\u003d\u003e............................] - ETA: 6s - loss: 10.4768 - acc: 0.3500",
            "\b\b\b\b\b\b\b\b\b\b\b\b\b\b\b\b\b\b\b\b\b\b\b\b\b\b\b\b\b\b\b\b\b\b\b\b\b\b\b\b\b\b\b\b\b\b\b\b\b\b\b\b\b\b\b\b\b\b\b\b\b\b\b\b\b\b\b\b\b\b\b\b\b\b\b\b\b\b\b\b\r 40/250 [\u003d\u003d\u003d\u003e..........................] - ETA: 7s - loss: 10.4768 - acc: 0.3500",
            "\b\b\b\b\b\b\b\b\b\b\b\b\b\b\b\b\b\b\b\b\b\b\b\b\b\b\b\b\b\b\b\b\b\b\b\b\b\b\b\b\b\b\b\b\b\b\b\b\b\b\b\b\b\b\b\b\b\b\b\b\b\b\b\b\b\b\b\b\b\b\b\b\b\b\b\b\b\b\b\b\r 60/250 [\u003d\u003d\u003d\u003d\u003d\u003d\u003e.......................] - ETA: 7s - loss: 10.4768 - acc: 0.3500",
            "\b\b\b\b\b\b\b\b\b\b\b\b\b\b\b\b\b\b\b\b\b\b\b\b\b\b\b\b\b\b\b\b\b\b\b\b\b\b\b\b\b\b\b\b\b\b\b\b\b\b\b\b\b\b\b\b\b\b\b\b\b\b\b\b\b\b\b\b\b\b\b\b\b\b\b\b\b\b\b\b\r 80/250 [\u003d\u003d\u003d\u003d\u003d\u003d\u003d\u003d\u003e.....................] - ETA: 7s - loss: 10.0738 - acc: 0.3750",
            "\b\b\b\b\b\b\b\b\b\b\b\b\b\b\b\b\b\b\b\b\b\b\b\b\b\b\b\b\b\b\b\b\b\b\b\b\b\b\b\b\b\b\b\b\b\b\b\b\b\b\b\b\b\b\b\b\b\b\b\b\b\b\b\b\b\b\b\b\b\b\b\b\b\b\b\b\b\b\b\b\r100/250 [\u003d\u003d\u003d\u003d\u003d\u003d\u003d\u003d\u003d\u003d\u003d\u003e..................] - ETA: 6s - loss: 10.7991 - acc: 0.3300",
            "\b\b\b\b\b\b\b\b\b\b\b\b\b\b\b\b\b\b\b\b\b\b\b\b\b\b\b\b\b\b\b\b\b\b\b\b\b\b\b\b\b\b\b\b\b\b\b\b\b\b\b\b\b\b\b\b\b\b\b\b\b\b\b\b\b\b\b\b\b\b\b\b\b\b\b\b\b\b\b\b\r120/250 [\u003d\u003d\u003d\u003d\u003d\u003d\u003d\u003d\u003d\u003d\u003d\u003d\u003d\u003e................] - ETA: 5s - loss: 10.2081 - acc: 0.3667",
            "\b\b\b\b\b\b\b\b\b\b\b\b\b\b\b\b\b\b\b\b\b\b\b\b\b\b\b\b\b\b\b\b\b\b\b\b\b\b\b\b\b\b\b\b\b\b\b\b\b\b\b\b\b\b\b\b\b\b\b\b\b\b\b\b\b\b\b\b\b\b\b\b\b\b\b\b\b\b\b\b\r140/250 [\u003d\u003d\u003d\u003d\u003d\u003d\u003d\u003d\u003d\u003d\u003d\u003d\u003d\u003d\u003d\u003e..............] - ETA: 4s - loss: 10.1314 - acc: 0.3714",
            "\b\b\b\b\b\b\b\b\b\b\b\b\b\b\b\b\b\b\b\b\b\b\b\b\b\b\b\b\b\b\b\b\b\b\b\b\b\b\b\b\b\b\b\b\b\b\b\b\b\b\b\b\b\b\b\b\b\b\b\b\b\b\b\b\b\b\b\b\b\b\b\b\b\b\b\b\b\b\b\b\r160/250 [\u003d\u003d\u003d\u003d\u003d\u003d\u003d\u003d\u003d\u003d\u003d\u003d\u003d\u003d\u003d\u003d\u003d\u003d\u003e...........] - ETA: 3s - loss: 10.2753 - acc: 0.3625",
            "\b\b\b\b\b\b\b\b\b\b\b\b\b\b\b\b\b\b\b\b\b\b\b\b\b\b\b\b\b\b\b\b\b\b\b\b\b\b\b\b\b\b\b\b\b\b\b\b\b\b\b\b\b\b\b\b\b\b\b\b\b\b\b\b\b\b\b\b\b\b\b\b\b\b\b\b\b\b\b\b\r180/250 [\u003d\u003d\u003d\u003d\u003d\u003d\u003d\u003d\u003d\u003d\u003d\u003d\u003d\u003d\u003d\u003d\u003d\u003d\u003d\u003d\u003e.........] - ETA: 2s - loss: 10.5663 - acc: 0.3444",
            "\b\b\b\b\b\b\b\b\b\b\b\b\b\b\b\b\b\b\b\b\b\b\b\b\b\b\b\b\b\b\b\b\b\b\b\b\b\b\b\b\b\b\b\b\b\b\b\b\b\b\b\b\b\b\b\b\b\b\b\b\b\b\b\b\b\b\b\b\b\b\b\b\b\b\b\b\b\b\b\b\r200/250 [\u003d\u003d\u003d\u003d\u003d\u003d\u003d\u003d\u003d\u003d\u003d\u003d\u003d\u003d\u003d\u003d\u003d\u003d\u003d\u003d\u003d\u003d\u003d\u003e......] - ETA: 1s - loss: 10.7185 - acc: 0.3350",
            "\b\b\b\b\b\b\b\b\b\b\b\b\b\b\b\b\b\b\b\b\b\b\b\b\b\b\b\b\b\b\b\b\b\b\b\b\b\b\b\b\b\b\b\b\b\b\b\b\b\b\b\b\b\b\b\b\b\b\b\b\b\b\b\b\b\b\b\b\b\b\b\b\b\b\b\b\b\b\b\b\r220/250 [\u003d\u003d\u003d\u003d\u003d\u003d\u003d\u003d\u003d\u003d\u003d\u003d\u003d\u003d\u003d\u003d\u003d\u003d\u003d\u003d\u003d\u003d\u003d\u003d\u003d\u003e....] - ETA: 1s - loss: 10.6233 - acc: 0.3409",
            "\b\b\b\b\b\b\b\b\b\b\b\b\b\b\b\b\b\b\b\b\b\b\b\b\b\b\b\b\b\b\b\b\b\b\b\b\b\b\b\b\b\b\b\b\b\b\b\b\b\b\b\b\b\b\b\b\b\b\b\b\b\b\b\b\b\b\b\b\b\b\b\b\b\b\b\b\b\b\b\b\r240/250 [\u003d\u003d\u003d\u003d\u003d\u003d\u003d\u003d\u003d\u003d\u003d\u003d\u003d\u003d\u003d\u003d\u003d\u003d\u003d\u003d\u003d\u003d\u003d\u003d\u003d\u003d\u003d\u003e..] - ETA: 0s - loss: 10.4096 - acc: 0.3542",
            "\b\b\b\b\b\b\b\b\b\b\b\b\b\b\b\b\b\b\b\b\b\b\b\b\b\b\b\b\b\b\b\b\b\b\b\b\b\b\b\b\b\b\b\b\b\b\b\b\b\b\b\b\b\b\b\b\b\b\b\b\b\b\b\b\b\b\b\b\b\b\b\b\b\b\b\b\b\b\b\b\r250/250 [\u003d\u003d\u003d\u003d\u003d\u003d\u003d\u003d\u003d\u003d\u003d\u003d\u003d\u003d\u003d\u003d\u003d\u003d\u003d\u003d\u003d\u003d\u003d\u003d\u003d\u003d\u003d\u003d\u003d\u003d] - 10s 39ms/step - loss: 10.4445 - acc: 0.3520\n",
            "Epoch 4/5\n",
            "\r 20/250 [\u003d\u003e............................] - ETA: 5s - loss: 11.2827 - acc: 0.3000",
            "\b\b\b\b\b\b\b\b\b\b\b\b\b\b\b\b\b\b\b\b\b\b\b\b\b\b\b\b\b\b\b\b\b\b\b\b\b\b\b\b\b\b\b\b\b\b\b\b\b\b\b\b\b\b\b\b\b\b\b\b\b\b\b\b\b\b\b\b\b\b\b\b\b\b\b\b\b\b\b\b\r 40/250 [\u003d\u003d\u003d\u003e..........................] - ETA: 5s - loss: 11.2827 - acc: 0.3000",
            "\b\b\b\b\b\b\b\b\b\b\b\b\b\b\b\b\b\b\b\b\b\b\b\b\b\b\b\b\b\b\b\b\b\b\b\b\b\b\b\b\b\b\b\b\b\b\b\b\b\b\b\b\b\b\b\b\b\b\b\b\b\b\b\b\b\b\b\b\b\b\b\b\b\b\b\b\b\b\b\b\r 60/250 [\u003d\u003d\u003d\u003d\u003d\u003d\u003e.......................] - ETA: 4s - loss: 11.0140 - acc: 0.3167",
            "\b\b\b\b\b\b\b\b\b\b\b\b\b\b\b\b\b\b\b\b\b\b\b\b\b\b\b\b\b\b\b\b\b\b\b\b\b\b\b\b\b\b\b\b\b\b\b\b\b\b\b\b\b\b\b\b\b\b\b\b\b\b\b\b\b\b\b\b\b\b\b\b\b\b\b\b\b\b\b\b\r 80/250 [\u003d\u003d\u003d\u003d\u003d\u003d\u003d\u003d\u003e.....................] - ETA: 4s - loss: 10.2753 - acc: 0.3625",
            "\b\b\b\b\b\b\b\b\b\b\b\b\b\b\b\b\b\b\b\b\b\b\b\b\b\b\b\b\b\b\b\b\b\b\b\b\b\b\b\b\b\b\b\b\b\b\b\b\b\b\b\b\b\b\b\b\b\b\b\b\b\b\b\b\b\b\b\b\b\b\b\b\b\b\b\b\b\b\b\b\r100/250 [\u003d\u003d\u003d\u003d\u003d\u003d\u003d\u003d\u003d\u003d\u003d\u003e..................] - ETA: 3s - loss: 10.7991 - acc: 0.3300",
            "\b\b\b\b\b\b\b\b\b\b\b\b\b\b\b\b\b\b\b\b\b\b\b\b\b\b\b\b\b\b\b\b\b\b\b\b\b\b\b\b\b\b\b\b\b\b\b\b\b\b\b\b\b\b\b\b\b\b\b\b\b\b\b\b\b\b\b\b\b\b\b\b\b\b\b\b\b\b\b\b\r120/250 [\u003d\u003d\u003d\u003d\u003d\u003d\u003d\u003d\u003d\u003d\u003d\u003d\u003d\u003e................] - ETA: 3s - loss: 10.8797 - acc: 0.3250",
            "\b\b\b\b\b\b\b\b\b\b\b\b\b\b\b\b\b\b\b\b\b\b\b\b\b\b\b\b\b\b\b\b\b\b\b\b\b\b\b\b\b\b\b\b\b\b\b\b\b\b\b\b\b\b\b\b\b\b\b\b\b\b\b\b\b\b\b\b\b\b\b\b\b\b\b\b\b\b\b\b\r140/250 [\u003d\u003d\u003d\u003d\u003d\u003d\u003d\u003d\u003d\u003d\u003d\u003d\u003d\u003d\u003d\u003e..............] - ETA: 2s - loss: 10.9373 - acc: 0.3214",
            "\b\b\b\b\b\b\b\b\b\b\b\b\b\b\b\b\b\b\b\b\b\b\b\b\b\b\b\b\b\b\b\b\b\b\b\b\b\b\b\b\b\b\b\b\b\b\b\b\b\b\b\b\b\b\b\b\b\b\b\b\b\b\b\b\b\b\b\b\b\b\b\b\b\b\b\b\b\b\b\b\r160/250 [\u003d\u003d\u003d\u003d\u003d\u003d\u003d\u003d\u003d\u003d\u003d\u003d\u003d\u003d\u003d\u003d\u003d\u003d\u003e...........] - ETA: 2s - loss: 10.7790 - acc: 0.3313",
            "\b\b\b\b\b\b\b\b\b\b\b\b\b\b\b\b\b\b\b\b\b\b\b\b\b\b\b\b\b\b\b\b\b\b\b\b\b\b\b\b\b\b\b\b\b\b\b\b\b\b\b\b\b\b\b\b\b\b\b\b\b\b\b\b\b\b\b\b\b\b\b\b\b\b\b\b\b\b\b\b\r180/250 [\u003d\u003d\u003d\u003d\u003d\u003d\u003d\u003d\u003d\u003d\u003d\u003d\u003d\u003d\u003d\u003d\u003d\u003d\u003d\u003d\u003e.........] - ETA: 1s - loss: 10.6559 - acc: 0.3389",
            "\b\b\b\b\b\b\b\b\b\b\b\b\b\b\b\b\b\b\b\b\b\b\b\b\b\b\b\b\b\b\b\b\b\b\b\b\b\b\b\b\b\b\b\b\b\b\b\b\b\b\b\b\b\b\b\b\b\b\b\b\b\b\b\b\b\b\b\b\b\b\b\b\b\b\b\b\b\b\b\b\r200/250 [\u003d\u003d\u003d\u003d\u003d\u003d\u003d\u003d\u003d\u003d\u003d\u003d\u003d\u003d\u003d\u003d\u003d\u003d\u003d\u003d\u003d\u003d\u003d\u003e......] - ETA: 1s - loss: 10.5574 - acc: 0.3450",
            "\b\b\b\b\b\b\b\b\b\b\b\b\b\b\b\b\b\b\b\b\b\b\b\b\b\b\b\b\b\b\b\b\b\b\b\b\b\b\b\b\b\b\b\b\b\b\b\b\b\b\b\b\b\b\b\b\b\b\b\b\b\b\b\b\b\b\b\b\b\b\b\b\b\b\b\b\b\b\b\b\r220/250 [\u003d\u003d\u003d\u003d\u003d\u003d\u003d\u003d\u003d\u003d\u003d\u003d\u003d\u003d\u003d\u003d\u003d\u003d\u003d\u003d\u003d\u003d\u003d\u003d\u003d\u003e....] - ETA: 0s - loss: 10.3302 - acc: 0.3591",
            "\b\b\b\b\b\b\b\b\b\b\b\b\b\b\b\b\b\b\b\b\b\b\b\b\b\b\b\b\b\b\b\b\b\b\b\b\b\b\b\b\b\b\b\b\b\b\b\b\b\b\b\b\b\b\b\b\b\b\b\b\b\b\b\b\b\b\b\b\b\b\b\b\b\b\b\b\b\b\b\b\r240/250 [\u003d\u003d\u003d\u003d\u003d\u003d\u003d\u003d\u003d\u003d\u003d\u003d\u003d\u003d\u003d\u003d\u003d\u003d\u003d\u003d\u003d\u003d\u003d\u003d\u003d\u003d\u003d\u003e..] - ETA: 0s - loss: 10.4768 - acc: 0.3500",
            "\b\b\b\b\b\b\b\b\b\b\b\b\b\b\b\b\b\b\b\b\b\b\b\b\b\b\b\b\b\b\b\b\b\b\b\b\b\b\b\b\b\b\b\b\b\b\b\b\b\b\b\b\b\b\b\b\b\b\b\b\b\b\b\b\b\b\b\b\b\b\b\b\b\b\b\b\b\b\b\b\r250/250 [\u003d\u003d\u003d\u003d\u003d\u003d\u003d\u003d\u003d\u003d\u003d\u003d\u003d\u003d\u003d\u003d\u003d\u003d\u003d\u003d\u003d\u003d\u003d\u003d\u003d\u003d\u003d\u003d\u003d\u003d] - 6s 25ms/step - loss: 10.4445 - acc: 0.3520\n",
            "Epoch 5/5\n",
            "\r 20/250 [\u003d\u003e............................] - ETA: 7s - loss: 10.4768 - acc: 0.3500",
            "\b\b\b\b\b\b\b\b\b\b\b\b\b\b\b\b\b\b\b\b\b\b\b\b\b\b\b\b\b\b\b\b\b\b\b\b\b\b\b\b\b\b\b\b\b\b\b\b\b\b\b\b\b\b\b\b\b\b\b\b\b\b\b\b\b\b\b\b\b\b\b\b\b\b\b\b\b\b\b\b\r 40/250 [\u003d\u003d\u003d\u003e..........................] - ETA: 6s - loss: 10.8797 - acc: 0.3250",
            "\b\b\b\b\b\b\b\b\b\b\b\b\b\b\b\b\b\b\b\b\b\b\b\b\b\b\b\b\b\b\b\b\b\b\b\b\b\b\b\b\b\b\b\b\b\b\b\b\b\b\b\b\b\b\b\b\b\b\b\b\b\b\b\b\b\b\b\b\b\b\b\b\b\b\b\b\b\b\b\b\r 60/250 [\u003d\u003d\u003d\u003d\u003d\u003d\u003e.......................] - ETA: 7s - loss: 9.6709 - acc: 0.4000 ",
            "\b\b\b\b\b\b\b\b\b\b\b\b\b\b\b\b\b\b\b\b\b\b\b\b\b\b\b\b\b\b\b\b\b\b\b\b\b\b\b\b\b\b\b\b\b\b\b\b\b\b\b\b\b\b\b\b\b\b\b\b\b\b\b\b\b\b\b\b\b\b\b\b\b\b\b\b\b\b\b\r 80/250 [\u003d\u003d\u003d\u003d\u003d\u003d\u003d\u003d\u003e.....................] - ETA: 6s - loss: 10.8797 - acc: 0.3250",
            "\b\b\b\b\b\b\b\b\b\b\b\b\b\b\b\b\b\b\b\b\b\b\b\b\b\b\b\b\b\b\b\b\b\b\b\b\b\b\b\b\b\b\b\b\b\b\b\b\b\b\b\b\b\b\b\b\b\b\b\b\b\b\b\b\b\b\b\b\b\b\b\b\b\b\b\b\b\b\b\b\r100/250 [\u003d\u003d\u003d\u003d\u003d\u003d\u003d\u003d\u003d\u003d\u003d\u003e..................] - ETA: 5s - loss: 10.4768 - acc: 0.3500",
            "\b\b\b\b\b\b\b\b\b\b\b\b\b\b\b\b\b\b\b\b\b\b\b\b\b\b\b\b\b\b\b\b\b\b\b\b\b\b\b\b\b\b\b\b\b\b\b\b\b\b\b\b\b\b\b\b\b\b\b\b\b\b\b\b\b\b\b\b\b\b\b\b\b\b\b\b\b\b\b\b\r120/250 [\u003d\u003d\u003d\u003d\u003d\u003d\u003d\u003d\u003d\u003d\u003d\u003d\u003d\u003e................] - ETA: 4s - loss: 10.0738 - acc: 0.3750",
            "\b\b\b\b\b\b\b\b\b\b\b\b\b\b\b\b\b\b\b\b\b\b\b\b\b\b\b\b\b\b\b\b\b\b\b\b\b\b\b\b\b\b\b\b\b\b\b\b\b\b\b\b\b\b\b\b\b\b\b\b\b\b\b\b\b\b\b\b\b\b\b\b\b\b\b\b\b\b\b\b\r140/250 [\u003d\u003d\u003d\u003d\u003d\u003d\u003d\u003d\u003d\u003d\u003d\u003d\u003d\u003d\u003d\u003e..............] - ETA: 3s - loss: 10.3616 - acc: 0.3571",
            "\b\b\b\b\b\b\b\b\b\b\b\b\b\b\b\b\b\b\b\b\b\b\b\b\b\b\b\b\b\b\b\b\b\b\b\b\b\b\b\b\b\b\b\b\b\b\b\b\b\b\b\b\b\b\b\b\b\b\b\b\b\b\b\b\b\b\b\b\b\b\b\b\b\b\b\b\b\b\b\b\r160/250 [\u003d\u003d\u003d\u003d\u003d\u003d\u003d\u003d\u003d\u003d\u003d\u003d\u003d\u003d\u003d\u003d\u003d\u003d\u003e...........] - ETA: 3s - loss: 10.4768 - acc: 0.3500",
            "\b\b\b\b\b\b\b\b\b\b\b\b\b\b\b\b\b\b\b\b\b\b\b\b\b\b\b\b\b\b\b\b\b\b\b\b\b\b\b\b\b\b\b\b\b\b\b\b\b\b\b\b\b\b\b\b\b\b\b\b\b\b\b\b\b\b\b\b\b\b\b\b\b\b\b\b\b\b\b\b\r180/250 [\u003d\u003d\u003d\u003d\u003d\u003d\u003d\u003d\u003d\u003d\u003d\u003d\u003d\u003d\u003d\u003d\u003d\u003d\u003d\u003d\u003e.........] - ETA: 2s - loss: 10.3872 - acc: 0.3556",
            "\b\b\b\b\b\b\b\b\b\b\b\b\b\b\b\b\b\b\b\b\b\b\b\b\b\b\b\b\b\b\b\b\b\b\b\b\b\b\b\b\b\b\b\b\b\b\b\b\b\b\b\b\b\b\b\b\b\b\b\b\b\b\b\b\b\b\b\b\b\b\b\b\b\b\b\b\b\b\b\b\r200/250 [\u003d\u003d\u003d\u003d\u003d\u003d\u003d\u003d\u003d\u003d\u003d\u003d\u003d\u003d\u003d\u003d\u003d\u003d\u003d\u003d\u003d\u003d\u003d\u003e......] - ETA: 1s - loss: 10.1544 - acc: 0.3700",
            "\b\b\b\b\b\b\b\b\b\b\b\b\b\b\b\b\b\b\b\b\b\b\b\b\b\b\b\b\b\b\b\b\b\b\b\b\b\b\b\b\b\b\b\b\b\b\b\b\b\b\b\b\b\b\b\b\b\b\b\b\b\b\b\b\b\b\b\b\b\b\b\b\b\b\b\b\b\b\b\b\r220/250 [\u003d\u003d\u003d\u003d\u003d\u003d\u003d\u003d\u003d\u003d\u003d\u003d\u003d\u003d\u003d\u003d\u003d\u003d\u003d\u003d\u003d\u003d\u003d\u003d\u003d\u003e....] - ETA: 1s - loss: 10.2570 - acc: 0.3636",
            "\b\b\b\b\b\b\b\b\b\b\b\b\b\b\b\b\b\b\b\b\b\b\b\b\b\b\b\b\b\b\b\b\b\b\b\b\b\b\b\b\b\b\b\b\b\b\b\b\b\b\b\b\b\b\b\b\b\b\b\b\b\b\b\b\b\b\b\b\b\b\b\b\b\b\b\b\b\b\b\b\r240/250 [\u003d\u003d\u003d\u003d\u003d\u003d\u003d\u003d\u003d\u003d\u003d\u003d\u003d\u003d\u003d\u003d\u003d\u003d\u003d\u003d\u003d\u003d\u003d\u003d\u003d\u003d\u003d\u003e..] - ETA: 0s - loss: 10.4096 - acc: 0.3542",
            "\b\b\b\b\b\b\b\b\b\b\b\b\b\b\b\b\b\b\b\b\b\b\b\b\b\b\b\b\b\b\b\b\b\b\b\b\b\b\b\b\b\b\b\b\b\b\b\b\b\b\b\b\b\b\b\b\b\b\b\b\b\b\b\b\b\b\b\b\b\b\b\b\b\b\b\b\b\b\b\b\r250/250 [\u003d\u003d\u003d\u003d\u003d\u003d\u003d\u003d\u003d\u003d\u003d\u003d\u003d\u003d\u003d\u003d\u003d\u003d\u003d\u003d\u003d\u003d\u003d\u003d\u003d\u003d\u003d\u003d\u003d\u003d] - 9s 36ms/step - loss: 10.4445 - acc: 0.3520\n",
            "\r32/74 [\u003d\u003d\u003d\u003d\u003d\u003d\u003d\u003d\u003d\u003d\u003d\u003e..................] - ETA: 0s",
            "\b\b\b\b\b\b\b\b\b\b\b\b\b\b\b\b\b\b\b\b\b\b\b\b\b\b\b\b\b\b\b\b\b\b\b\b\b\b\b\b\b\b\b\b\b\b\b\b\r64/74 [\u003d\u003d\u003d\u003d\u003d\u003d\u003d\u003d\u003d\u003d\u003d\u003d\u003d\u003d\u003d\u003d\u003d\u003d\u003d\u003d\u003d\u003d\u003d\u003d\u003e.....] - ETA: 0s",
            "\b\b\b\b\b\b\b\b\b\b\b\b\b\b\b\b\b\b\b\b\b\b\b\b\b\b\b\b\b\b\b\b\b\b\b\b\b\b\b\b\b\b\b\b\b\b\b\b\r74/74 [\u003d\u003d\u003d\u003d\u003d\u003d\u003d\u003d\u003d\u003d\u003d\u003d\u003d\u003d\u003d\u003d\u003d\u003d\u003d\u003d\u003d\u003d\u003d\u003d\u003d\u003d\u003d\u003d\u003d\u003d] - 1s 17ms/step\n"
          ],
          "output_type": "stream"
        }
      ],
      "source": "from keras import layers, models\nfrom nilearn.image import crop_img, index_img, iter_img\nfrom sklearn.preprocessing import OneHotEncoder\nimport numpy as np\n\ndef loadFilteredImages(sub):\n    behavioral \u003d pd.read_csv(haxby_dataset.session_target[sub], sep\u003d\" \")\n    conditions \u003d behavioral[\u0027labels\u0027]\n    print(\"length of all trials: \", len(conditions))\n    threeway_mask \u003d conditions.isin([\u0027face\u0027, \u0027house\u0027, \u0027cat\u0027])\n    images \u003d index_img(loadSubject(sub), threeway_mask)\n    return images\n\n#for subject 1, returned images are a set of 324 frames/trials, each containing 40 slices of 64*64 images\n#original shape: (40, 64, 64, 324)\nsubj1_images \u003d loadFilteredImages(0)\nimages \u003d np.empty((40, 64, 64))\n#use np.stack to reshape the 4D image array to (324, 40, 64, 64)\nimages \u003d np.stack([img.dataobj for i, img in enumerate(iter_img(subj1_images))])\ntrain_images \u003d images[:250]\nval_images \u003d images[250:]\nprint(\"Shape of input: \", train_images.shape)\nprint(\"Content of input: \", train_images)\n\n#need to one-hot encode the Y labels\nenc \u003d OneHotEncoder()\n#cited from https://machinelearningmastery.com/multi-class-classification-tutorial-keras-deep-learning-library/\nY \u003d enc.fit_transform(conditions_threeway[:, np.newaxis]).toarray()\nY_train \u003d Y[:250]\nY_val \u003d Y[250:]\n\n#cited from https://github.com/fchollet/deep-learning-with-python-notebooks/blob/master/5.1-introduction-to-convnets.ipynb\nmodel \u003d models.Sequential()\nmodel.add(layers.Conv2D(32, kernel_size \u003d (3, 3), activation\u003d\u0027relu\u0027, input_shape\u003d(40, 64, 64)))\nmodel.add(layers.MaxPooling2D((2, 2)))\nmodel.add(layers.Conv2D(64, (3, 3), activation\u003d\u0027relu\u0027))\nmodel.add(layers.MaxPooling2D((2, 2)))\nmodel.add(layers.Conv2D(64, (3, 3), activation\u003d\u0027relu\u0027))\nmodel.add(layers.Flatten())\nmodel.add(layers.Dense(64, activation\u003d\u0027relu\u0027))\nmodel.add(layers.Dense(3, activation\u003d\u0027softmax\u0027))\nmodel.summary()\n\nmodel.compile(optimizer\u003d\u0027rmsprop\u0027,\n              loss\u003d\u0027categorical_crossentropy\u0027,\n              metrics\u003d[\u0027accuracy\u0027])\nmodel.fit(train_images, Y_train, epochs\u003d5, batch_size\u003d20)\n\ntest_loss, test_acc \u003d model.evaluate(val_images, Y_val)\n",
      "metadata": {
        "pycharm": {
          "metadata": false,
          "name": "#%%\n",
          "is_executing": false
        }
      }
    },
    {
      "cell_type": "markdown",
      "source": "Test loss: ",
      "metadata": {
        "pycharm": {
          "metadata": false,
          "name": "#%% md\n"
        }
      }
    },
    {
      "cell_type": "code",
      "execution_count": 15,
      "outputs": [
        {
          "data": {
            "text/plain": "11.761853192303631"
          },
          "metadata": {},
          "output_type": "execute_result",
          "execution_count": 15
        }
      ],
      "source": "test_loss",
      "metadata": {
        "pycharm": {
          "metadata": false,
          "name": "#%%\n",
          "is_executing": false
        }
      }
    },
    {
      "cell_type": "markdown",
      "source": "Test accuracy: ",
      "metadata": {
        "pycharm": {
          "metadata": false,
          "name": "#%% md\n"
        }
      }
    },
    {
      "cell_type": "code",
      "execution_count": 16,
      "outputs": [
        {
          "data": {
            "text/plain": "0.2702702704716373"
          },
          "metadata": {},
          "output_type": "execute_result",
          "execution_count": 16
        }
      ],
      "source": "test_acc",
      "metadata": {
        "pycharm": {
          "metadata": false,
          "name": "#%% \n",
          "is_executing": false
        }
      }
    },
    {
      "cell_type": "markdown",
      "source": "**Three-way classification on Subject 1 with SVM**  \nThis module extends upon the tutorial I followed by doing three-way instead of binary classification. ",
      "metadata": {
        "pycharm": {
          "metadata": false,
          "name": "#%% md\n"
        }
      }
    },
    {
      "cell_type": "code",
      "execution_count": 17,
      "outputs": [],
      "source": "from sklearn.feature_selection import SelectPercentile, f_classif, chi2, SelectKBest\nfrom sklearn.svm import LinearSVC, SVC\nfrom sklearn.pipeline import Pipeline\nfrom nilearn import image\nfrom nilearn.plotting import plot_stat_map, show\nfrom sklearn.model_selection import LeaveOneGroupOut, cross_val_score\nimport matplotlib.pyplot as plt\n\n#cited from: https://nilearn.github.io/auto_examples/02_decoding/plot_haxby_anova_svm.html\n    # Define the dimension reduction to be used.\n    # Here we use a classical univariate feature selection based on F-test,\n    # namely Anova. When doing full-brain analysis, it is better to use\n    # SelectPercentile, keeping 5% of voxels\n    # (because it is independent of the resolution of the data).\nfeature_selection \u003d SelectPercentile(f_classif, percentile\u003d5)\nk_features \u003d SelectKBest(f_classif, k \u003d 7)\n\n# Output accuracy\n# Define the cross-validation scheme used for validation.\n# Here we use a LeaveOneGroupOut cross-validation on the session group\n# which corresponds to a leave-one-session-out\ndef modelAccuracy(model, X, conditions, groups):\n    cv \u003d LeaveOneGroupOut()\n\n    # Compute the prediction accuracy for the different folds (i.e. session)\n    cv_scores \u003d cross_val_score(model, X, conditions, cv\u003dcv, groups\u003dgroups)\n\n    # Return the corresponding mean prediction accuracy\n    classification_accuracy \u003d cv_scores.mean()\n\n    # Print the results\n    print(\"Classification accuracy: %.4f / Chance level: %f\" %\n          # (classification_accuracy, 1. / len(conditions.unique())))\n          (classification_accuracy, 1. / 3))\n\n#one-vs-the-rest linear kernel\n#cited from https://scikit-learn.org/stable/modules/svm.html#multi-class-classification\n#Pipeline ANOVA SVM with anova F-value, percetile feature selection. This is univariate feature selection",
      "metadata": {
        "pycharm": {
          "metadata": false,
          "name": "#%%\n",
          "is_executing": false
        }
      }
    },
    {
      "cell_type": "markdown",
      "source": "Fitting a linear SVC with Pipelined Anova f-value feature selection on subject 1 (324) trials: ",
      "metadata": {
        "pycharm": {
          "metadata": false,
          "name": "#%% md\n"
        }
      }
    },
    {
      "cell_type": "code",
      "execution_count": 18,
      "outputs": [
        {
          "data": {
            "text/plain": "Pipeline(memory\u003dNone,\n     steps\u003d[(\u0027anova\u0027, SelectPercentile(percentile\u003d3.3,\n         score_func\u003d\u003cfunction f_classif at 0x000001F09A925620\u003e)), (\u0027svc\u0027, LinearSVC(C\u003d10, class_weight\u003dNone, dual\u003dTrue, fit_intercept\u003dTrue,\n     intercept_scaling\u003d1, loss\u003d\u0027squared_hinge\u0027, max_iter\u003d750,\n     multi_class\u003d\u0027ovr\u0027, penalty\u003d\u0027l2\u0027, random_state\u003dNone, tol\u003d0.0001,\n     verbose\u003d0))])"
          },
          "metadata": {},
          "output_type": "execute_result",
          "execution_count": 18
        }
      ],
      "source": "lin_svc \u003d LinearSVC()\nfacecathouse_svc \u003d Pipeline([(\u0027anova\u0027, feature_selection), (\u0027svc\u0027, lin_svc)])\nfacecathouse_svc.set_params(svc__C \u003d 10, svc__max_iter \u003d 2500)\nfacecathouse_svc.set_params(anova__percentile \u003d 3.3, svc__max_iter \u003d 750)\nfacecathouse_svc.fit(FHC, conditions_threeway)",
      "metadata": {
        "pycharm": {
          "metadata": false,
          "name": "#%%\n",
          "is_executing": false
        }
      }
    },
    {
      "cell_type": "markdown",
      "source": "Pipelined SVM with linear kernel accuracy:",
      "metadata": {
        "pycharm": {
          "metadata": false,
          "name": "#%% md\n"
        }
      }
    },
    {
      "cell_type": "code",
      "execution_count": 19,
      "outputs": [
        {
          "name": "stdout",
          "text": [
            "Classification accuracy: 0.6605 / Chance level: 0.333333\n"
          ],
          "output_type": "stream"
        },
        {
          "name": "stderr",
          "text": [
            "[Parallel(n_jobs\u003d1)]: Using backend SequentialBackend with 1 concurrent workers.\n",
            "[Parallel(n_jobs\u003d1)]: Done   6 out of   6 | elapsed:    3.2s finished\n"
          ],
          "output_type": "stream"
        }
      ],
      "source": "modelAccuracy(facecathouse_svc, FHC, conditions_threeway, session_threeway)\ncross_validation \u003d cross_val_score(facecathouse_svc, FHC, conditions_threeway, cv \u003d 6, verbose \u003d 1)",
      "metadata": {
        "pycharm": {
          "metadata": false,
          "name": "#%%\n",
          "is_executing": false
        }
      }
    },
    {
      "cell_type": "markdown",
      "source": "Pipelined SVM with linear kernel cross validation score: ",
      "metadata": {
        "pycharm": {
          "metadata": false,
          "name": "#%% md\n"
        }
      }
    },
    {
      "cell_type": "code",
      "execution_count": 21,
      "outputs": [
        {
          "data": {
            "text/plain": "0.7499999999999999"
          },
          "metadata": {},
          "output_type": "execute_result",
          "execution_count": 21
        }
      ],
      "source": "cross_validation.mean()",
      "metadata": {
        "pycharm": {
          "metadata": false,
          "name": "#%%\n",
          "is_executing": false
        }
      }
    },
    {
      "cell_type": "markdown",
      "source": "**Three-way classification with SVM on all four subjects**  \nThis module extends upon previous work by including all four subjects with complete data in the analysis.  ",
      "metadata": {
        "pycharm": {
          "metadata": false,
          "name": "#%% md\n"
        }
      }
    },
    {
      "cell_type": "code",
      "execution_count": 24,
      "outputs": [
        {
          "name": "stdout",
          "text": [
            "Classification accuracy: 0.6111 / Chance level: 0.333333\n"
          ],
          "output_type": "stream"
        },
        {
          "name": "stderr",
          "text": [
            "[Parallel(n_jobs\u003d1)]: Using backend SequentialBackend with 1 concurrent workers.\n",
            "[Parallel(n_jobs\u003d1)]: Done   7 out of   7 | elapsed:   35.3s finished\n"
          ],
          "output_type": "stream"
        },
        {
          "data": {
            "text/plain": "0.6442673314698698"
          },
          "metadata": {},
          "output_type": "execute_result",
          "execution_count": 24
        }
      ],
      "source": "# fitting on all four subjects\nlin_svc1 \u003d LinearSVC()\nallSubs_svc \u003d Pipeline([(\u0027anova\u0027, feature_selection), (\u0027svc\u0027, lin_svc1)])\nallSubs_svc.set_params(anova__percentile \u003d 2.9, svc__max_iter \u003d 5000)\nallSubs_svc.fit(X_all, Y_all)\nmodelAccuracy(allSubs_svc, X_all, Y_all, session_all)\ncross_validation \u003d cross_val_score(allSubs_svc, X_all, Y_all, cv \u003d 7, verbose \u003d 1)\ncross_validation.mean()",
      "metadata": {
        "pycharm": {
          "metadata": false,
          "name": "#%%\n",
          "is_executing": false
        }
      }
    },
    {
      "cell_type": "markdown",
      "source": "\u003ch5\u003eResults\u003c/h5\u003e\n - **DNN**\n     ",
      "metadata": {
        "pycharm": {
          "metadata": false,
          "name": "#%% md\n"
        }
      }
    },
    {
      "cell_type": "markdown",
      "source": "\u003ch5\u003eImplications\u003c/h5\u003e\nFirstly, this project uses a public datasets of fMRI data with no identifiable personal information.  \nI became interested in this project because it is very cool that machine-learning algorithms have this potential in analysing our brains. Neural networks were inspired by the biological layout of neurons, and they nay very well be able to help humans learn more about the biology of our brains. Other ML algorithms such as SVM show promise as well.  \nApplying ML algorithmic analyses to brain imaging data really goes to emphasize the side of our brains that are predictable / computational. One of my classmates mentioned that projects in this area could make it possible to \"read your mind\". If that really becomes a tangible reality to predict what someone\u0027s experiencing mentally, there will be a lot of ethical implications. We will need to consider how we can protect our privacy and the personal integrity of our thought.   \nOn the other hand, ML and particularly CNN have positive implications for the medical field. Particularly the area in diagnosis of neurological disorders can benefit from use of ML. Another area that professional projects can impact is brain-computer interfaces, where researchers are already trying to decode brain activations and control prosthetics for the bettermenf of life quality for disabled people. The area that we struggle at: finding hidden connections and patterns in brain-scans, is an area of strength for AI algorithms, and we can use them to better understand how brain activation patterns indicate neurological sickness or translate to limb movements. \n",
      "metadata": {
        "pycharm": {
          "metadata": false,
          "name": "#%% md\n"
        }
      }
    }
  ],
  "metadata": {
    "language_info": {
      "codemirror_mode": {
        "name": "ipython",
        "version": 2
      },
      "file_extension": ".py",
      "mimetype": "text/x-python",
      "name": "python",
      "nbconvert_exporter": "python",
      "pygments_lexer": "ipython2",
      "version": "2.7.6"
    },
    "kernelspec": {
      "name": "python3",
      "language": "python",
      "display_name": "Python 3"
    },
    "stem_cell": {
      "cell_type": "raw",
      "source": " ",
      "metadata": {
        "pycharm": {
          "metadata": false
        }
      }
    }
  },
  "nbformat": 4,
  "nbformat_minor": 0
}