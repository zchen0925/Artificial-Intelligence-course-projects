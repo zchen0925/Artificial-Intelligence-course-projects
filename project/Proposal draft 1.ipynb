{
  "cells": [
    {
      "cell_type": "markdown",
      "metadata": {
        "collapsed": true,
        "pycharm": {
          "name": "#%% md\n"
        }
      },
      "source": "### CS 344 Project Proposal\n##### Ziqi Chen\n##### April 19th, 2019\n\n    For the final project for CS344, I am interested in applying machine learning to some level of analysis for neuroimaging data.\nGiven the complexity of fMRI data and my limited experience, I imagine it would be a challenge to manipulate data into \na format that my model can handel. Therefore I am still grasping and evaluating if this is a practical direction and remain \nopen to changing my project topic if this turns out to be too ambitious.   \n    After reading about this topic on http://nilearn.github.io, an online database containing tutorials for machine learning \nfor neuroimaging, I became interested in using convolutional neural nets in supervised learning to accomplish either a binary \nclassification of the brain state (at rest or engaged), or prediction of a clinical score. This would require \naccess to a clearly labeled dataset of fMRI, for which openneuro.org would be helpful, and learning to use the nilearn library.\n"
    }
  ],
  "metadata": {
    "language_info": {
      "codemirror_mode": {
        "name": "ipython",
        "version": 2
      },
      "file_extension": ".py",
      "mimetype": "text/x-python",
      "name": "python",
      "nbconvert_exporter": "python",
      "pygments_lexer": "ipython2",
      "version": "2.7.6"
    },
    "kernelspec": {
      "name": "python3",
      "language": "python",
      "display_name": "Python 3"
    }
  },
  "nbformat": 4,
  "nbformat_minor": 0
}