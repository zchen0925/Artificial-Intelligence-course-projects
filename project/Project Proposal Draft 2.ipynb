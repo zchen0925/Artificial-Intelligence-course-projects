{
  "cells": [
    {
      "cell_type": "markdown",
      "source": "\u003ch4\u003e\u003ccenter\u003e AI Project Proposal Draft 2 \u003c/h4\u003e\n\u003ch5\u003eZiqi Chen\u003cbr\u003e\nCS 344\u003cbr\u003e\nMay 3rd, 2019\u003c/h5\u003e\n\n",
      "metadata": {
        "pycharm": {
          "metadata": false
        }
      }
    },
    {
      "cell_type": "markdown",
      "source": "\u003ch6\u003eVision — Give an overview of the project and its purpose.\u003c/h6\u003e\nThis project will use NiLearn, a Python Scikit-Learn based library with high-level functions for manipulation\nand analysis of neuroimaging data. The goal is to select a public fMRI dataset representing a subpopulation, import it into NiLearn,\nand perform three tasks on the dataset using statistical models: encoding brain activation from given task, decoding task type \nfrom activation pattern, and extrapolating resting-state functional connectivity.",
      "metadata": {
        "pycharm": {
          "metadata": false,
          "name": "#%% md\n"
        }
      }
    },
    {
      "cell_type": "markdown",
      "source": "\u003ch6\u003eBackground\u003c/h6\u003e.\nA little bit on the relevance of three tasks: I read that in functional-neuroimaging tasks, it is not easy to tell apart \nwhen the person being recorded is on task or straying off. It is sometimes a challenge to separate data from noise. So \nit would be an interesting application to apply what I\u0027ve nlearned about prediction estimators from class and see if statistical estimators can do a good job of correctly decoding and encoding tasks-activity relationship.\nAs for functional connectivity, it is the idea of revealing which areas of the brain are temporally in sync when we are resting.\nI\u0027m learning that this is a new area of interest to neuroscientists and it can serve as a diagnostic tool in the future.\nIt would be also be an interesting and challenging task to learn the algorithms involved.  \n  For the technical background, the decoding task will use a Scikit-based Support Vector Machine capable of multi-class classification. The encoding task\n  should be similar with an extra step of plotting the brain activities using a NiLearn plotter.\n  The mapping task will involve use of a correlation matrix with a Graphical Lasso estimator. ",
      "metadata": {
        "pycharm": {
          "metadata": false,
          "name": "#%% md\n"
        }
      }
    },
    {
      "cell_type": "markdown",
      "source": "\u003ch6\u003eImplementation — Summarize your implementation and, if appropriate, how it extends on the work you’ve referenced\u003c/h6\u003e.\nGiven NiLearn\u0027s high-level pre-built functions, some of the implementation details will be carried out automatically in \nthe library.\nAfter reading tutorials, I think that the first step in implementation is downloading the dataset which will then be loaded\ninto Python. Next, I\u0027ll use NiLearn functions transforming 3D images with a time series into 2D arrays that Scikit accepts.\nThen a Support Vector Machine estimator will be trained on the data for the first two tasks. The parameters will be tweaked\nto achieve a satisfiable accuracy. Then, I\u0027ll need to research NiLearn functions that will plot the resulting brain activities\nfrom the prediction result arrays. Finally, for the third task, a correlation matrix need to be created based on time series data.\nA GraphicLasso estimator will be fit on the correlation matrix. I will look for existing projects on functional connectivity maps\nand compare the model\u0027s prediction with their findings. ",
      "metadata": {
        "pycharm": {
          "metadata": false,
          "name": "#%% md\n"
        }
      }
    },
    {
      "cell_type": "markdown",
      "source": "\u003ch6\u003eResults — Give the results of your system and comparing them with other similar work\u003c/h6\u003e.\nPreliminary results will include three groups: 1, encoding results of brain activity prediction from a task, \n2. decoding results of prediction of the task type from brain activation patterns, \n3. extrapolated functional connectivity map.\nI am still reading documentations and need to find a way to display model\u0027s accuracy for the first two tasks, and then I will\ncompare its accuracy to similar work. \nFor the third task on mapping functional connectivity, I will need to research more previous literature and compare\nthe similarity between what the estimate is and what has been discovered.\n",
      "metadata": {
        "pycharm": {
          "metadata": false,
          "name": "#%% md\n"
        }
      }
    },
    {
      "cell_type": "markdown",
      "source": "\u003ch6\u003eImplications — Discuss the social and ethical implications of using the technologies you’ve chosen for your project\u003c/h6\u003e.",
      "metadata": {
        "pycharm": {
          "metadata": false,
          "name": "#%% md\n"
        }
      }
    },
    {
      "cell_type": "markdown",
      "source": "  This project will be using public datasets of fMRI data.\n  In addition, my hope is to learn about how statistical models can offer leverage to analysis of activity and connection \n  patterns in the brain. Maching learning technologies are good at pattern-finding and navigating multi-demensional datasets \n  It can bring  benefits to researchers of the brain who are interested in understanding normal versus abnormal patterns of activity. \n  Recently, there has been a surge of interest in using fMRI brain scans as a window to understand how our brain functions \n  in a healthy or diminished way. The challenge for humans in detecting useful connections is an area of strength for \n  machine learning algorithms, specifically for neural networks and statistical models that are used in the NiLearn library.\n  Therefore, I think these technologies will provide researchers with more insight into the underlying workings of our brain behind the mass of fMRI data. \n  In the future, our understanding of neurological disorders such as Alzheimer\u0027s may stand to benefit from bringing machine learning\n  into the lab to assist the human medical experts. ",
      "metadata": {
        "pycharm": {
          "metadata": false,
          "name": "#%% md\n"
        }
      }
    }
  ],
  "metadata": {
    "language_info": {
      "codemirror_mode": {
        "name": "ipython",
        "version": 2
      },
      "file_extension": ".py",
      "mimetype": "text/x-python",
      "name": "python",
      "nbconvert_exporter": "python",
      "pygments_lexer": "ipython2",
      "version": "2.7.6"
    },
    "kernelspec": {
      "name": "python3",
      "language": "python",
      "display_name": "Python 3"
    },
    "stem_cell": {
      "cell_type": "raw",
      "source": " ",
      "metadata": {
        "pycharm": {
          "metadata": false
        }
      }
    }
  },
  "nbformat": 4,
  "nbformat_minor": 0
}