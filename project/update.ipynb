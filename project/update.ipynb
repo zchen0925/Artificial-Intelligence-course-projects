{
  "cells": [
    {
      "cell_type": "markdown",
      "metadata": {
        "collapsed": true,
        "pycharm": {
          "name": "#%% md\n"
        }
      },
      "source": "##### Updates since Walkthrough\n\n- **From binary to multiclass classification**  \nSince the walkthrough with Professor Vander Linden on Friday, I\u0027ve extended on the tutorial on binary classification to perform three-way classification using the same Linear Support Vector Classification estimator with Anova f-value features selection. Initially, the SVC model also performed analysis on one subject like the project I based on. On subject 1, after fine-tuning hyperparameters, the model reached a 66% accuracy. \n- **From single subject to 4 subjects**  \nThen, I expanded the training data to include all four subjects. This expanded the number of samples from 324 to 1296. The SVC estimator with the same kernel has a 61% percent accuracy on the combined data from 4 subjects.\n- **Addition of Neural Networks**  \n  - simple DNN  \n  Uses the same transformed 2D data as the original SVM.  \n  Trained DNN on the first 800 trials, from the combined data on all 4 subjects.  \n  After experimenting with activation functions and hyperparameters, reached accuracy of 39%.      \n  - CNN  \n  Performed additional data manipulation to create an array-like object containing the original fMRI scans (stored as Nifti images)  \n  Image array as X input.  \n  Trained the CNN on the first 250 trials and tested on the last 74 trials.\n  Looked up Conv3D, but couldn\u0027t find a way to reshape the data to satisfy requirements. Followed class example on the MNIST dataset.\n  After fine-tuning hyper-parameters, reach accuracy of 36%. \n  \n"
    }
  ],
  "metadata": {
    "language_info": {
      "codemirror_mode": {
        "name": "ipython",
        "version": 2
      },
      "file_extension": ".py",
      "mimetype": "text/x-python",
      "name": "python",
      "nbconvert_exporter": "python",
      "pygments_lexer": "ipython2",
      "version": "2.7.6"
    },
    "kernelspec": {
      "name": "python3",
      "language": "python",
      "display_name": "Python 3"
    }
  },
  "nbformat": 4,
  "nbformat_minor": 0
}