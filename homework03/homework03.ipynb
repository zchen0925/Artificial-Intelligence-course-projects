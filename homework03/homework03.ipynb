{
  "cells": [
    {
      "cell_type": "markdown",
      "source": "### Homework 03\n#### 1. Building a neural network that computes XOR\n\nIt is impossible to use single-layer neural nets to solve the XOR, which is a reason for the disillusionment in the first generation of single-layer perceptrons. From our class lecture, single-layer neural nets require that the problem be linearly separable, such as AND or OR.\nHowever, mapping out XOR, it is linearly inseparable. This makes it impossible to compute using a single-layer network which can only compute the output by multiplying some weights of the input. Instead, we need at least two layers, with a hidden layer that models the nonlinear behavior of XOR. Given that XOR is NAND ^ OR, we can make a two-layered neural network.\nWe can build the first layer taking the input, and at having two neurons that independently solve NAND and OR. The second layer contains a neuron that computes AND on the inputs from the first layer. This construction of a neural network will be able to produce the correct output. \n\n#### 2. Boston Housing data set\n###### a. compute the dimensions of the data set:\n",
      "metadata": {
        "pycharm": {
          "metadata": false
        }
      }
    },
    {
      "cell_type": "code",
      "execution_count": 18,
      "outputs": [
        {
          "name": "stdout",
          "text": [
            "Boston housing dataset dimensions: \n   \tcount: 506             \n\tdimensions: 2             \n\tshape: (506, 14)\n\n\n"
          ],
          "output_type": "stream"
        }
      ],
      "source": "\nimport pandas as pd\nimport numpy as np\nfrom keras.datasets import boston_housing\n\nboston_housing \u003d pd.read_csv(\"https://raw.githubusercontent.com/selva86/datasets/master/BostonHousing.csv\")\nboston_housing.head()\ndef print_structures(dataset):\n    print(\n        \u0027   \\tcount: {} \\\n            \\n\\tdimensions: {} \\\n            \\n\\tshape: {}\\n\\n\u0027.format(\n                len(dataset), \n                dataset.ndim, \n                dataset.shape      )\n )\nprint(\"Boston housing dataset dimensions: \")\nprint_structures(boston_housing)",
      "metadata": {
        "pycharm": {
          "metadata": false,
          "name": "#%%\n",
          "is_executing": false
        }
      }
    },
    {
      "cell_type": "markdown",
      "source": "###### b. creating training, validation, and testing sets",
      "metadata": {
        "pycharm": {
          "metadata": false
        }
      }
    },
    {
      "cell_type": "code",
      "execution_count": 19,
      "outputs": [
        {
          "name": "stdout",
          "text": [
            "training: \n   \tcount: 300             \n\tdimensions: 2             \n\tshape: (300, 14)\n\n\nvalidation: \n   \tcount: 100             \n\tdimensions: 2             \n\tshape: (100, 14)\n\n\ntesting: \n   \tcount: 106             \n\tdimensions: 2             \n\tshape: (106, 14)\n\n\n"
          ],
          "output_type": "stream"
        }
      ],
      "source": "training \u003d boston_housing[:300]\nvalidation \u003d boston_housing[300:400]\ntesting \u003d boston_housing[400:]\nprint(\"training: \")\nprint_structures(training)\nprint(\"validation: \")\nprint_structures(validation)\nprint(\"testing: \")\nprint_structures(testing)",
      "metadata": {
        "pycharm": {
          "metadata": false,
          "name": "#%%\n",
          "is_executing": false
        }
      }
    },
    {
      "cell_type": "markdown",
      "source": "###### c. introduce a new synthetic feature",
      "metadata": {
        "pycharm": {
          "metadata": false
        }
      }
    },
    {
      "cell_type": "code",
      "source": "print(\u0027Variables in the dataset:\u0027)\nboston_housing.head()",
      "metadata": {
        "pycharm": {
          "metadata": false,
          "name": "#%% \n",
          "is_executing": false
        }
      },
      "execution_count": 21,
      "outputs": [
        {
          "name": "stdout",
          "text": [
            "Variables in the dataset:\n      crim    zn  indus  chas    nox     rm   age     dis  rad  tax  ptratio  \\\n0  0.00632  18.0   2.31     0  0.538  6.575  65.2  4.0900    1  296     15.3   \n1  0.02731   0.0   7.07     0  0.469  6.421  78.9  4.9671    2  242     17.8   \n2  0.02729   0.0   7.07     0  0.469  7.185  61.1  4.9671    2  242     17.8   \n3  0.03237   0.0   2.18     0  0.458  6.998  45.8  6.0622    3  222     18.7   \n4  0.06905   0.0   2.18     0  0.458  7.147  54.2  6.0622    3  222     18.7   \n\n        b  lstat  medv  \n0  396.90   4.98  24.0  \n1  396.90   9.14  21.6  \n2  392.83   4.03  34.7  \n3  394.63   2.94  33.4  \n4  396.90   5.33  36.2  \n"
          ],
          "output_type": "stream"
        }
      ]
    },
    {
      "cell_type": "markdown",
      "source": "Interested in the proportion between pupil-teacher ratio and per capita crime rate.\nCould lower pupil-teacher ratio be a measure of a better educational system? Would this correlate with crime rates?\nBecause of these questions, I\u0027m creating a synthetic feature that is the per capital crime divided by ptratio times a hundred.",
      "metadata": {
        "pycharm": {
          "metadata": false,
          "name": "#%% md\n"
        }
      }
    },
    {
      "cell_type": "code",
      "execution_count": 27,
      "outputs": [
        {
          "data": {
            "text/plain": "      crim    zn  indus  chas    nox     rm   age     dis  rad  tax  ptratio  \\\n0  0.00632  18.0   2.31     0  0.538  6.575  65.2  4.0900    1  296     15.3   \n1  0.02731   0.0   7.07     0  0.469  6.421  78.9  4.9671    2  242     17.8   \n2  0.02729   0.0   7.07     0  0.469  7.185  61.1  4.9671    2  242     17.8   \n3  0.03237   0.0   2.18     0  0.458  6.998  45.8  6.0622    3  222     18.7   \n4  0.06905   0.0   2.18     0  0.458  7.147  54.2  6.0622    3  222     18.7   \n\n        b  lstat  medv  education-crime-ratio  \n0  396.90   4.98  24.0               0.041307  \n1  396.90   9.14  21.6               0.153427  \n2  392.83   4.03  34.7               0.153315  \n3  394.63   2.94  33.4               0.173102  \n4  396.90   5.33  36.2               0.369251  ",
            "text/html": "\u003cdiv\u003e\n\u003cstyle scoped\u003e\n    .dataframe tbody tr th:only-of-type {\n        vertical-align: middle;\n    }\n\n    .dataframe tbody tr th {\n        vertical-align: top;\n    }\n\n    .dataframe thead th {\n        text-align: right;\n    }\n\u003c/style\u003e\n\u003ctable border\u003d\"1\" class\u003d\"dataframe\"\u003e\n  \u003cthead\u003e\n    \u003ctr style\u003d\"text-align: right;\"\u003e\n      \u003cth\u003e\u003c/th\u003e\n      \u003cth\u003ecrim\u003c/th\u003e\n      \u003cth\u003ezn\u003c/th\u003e\n      \u003cth\u003eindus\u003c/th\u003e\n      \u003cth\u003echas\u003c/th\u003e\n      \u003cth\u003enox\u003c/th\u003e\n      \u003cth\u003erm\u003c/th\u003e\n      \u003cth\u003eage\u003c/th\u003e\n      \u003cth\u003edis\u003c/th\u003e\n      \u003cth\u003erad\u003c/th\u003e\n      \u003cth\u003etax\u003c/th\u003e\n      \u003cth\u003eptratio\u003c/th\u003e\n      \u003cth\u003eb\u003c/th\u003e\n      \u003cth\u003elstat\u003c/th\u003e\n      \u003cth\u003emedv\u003c/th\u003e\n      \u003cth\u003eeducation-crime-ratio\u003c/th\u003e\n    \u003c/tr\u003e\n  \u003c/thead\u003e\n  \u003ctbody\u003e\n    \u003ctr\u003e\n      \u003cth\u003e0\u003c/th\u003e\n      \u003ctd\u003e0.00632\u003c/td\u003e\n      \u003ctd\u003e18.0\u003c/td\u003e\n      \u003ctd\u003e2.31\u003c/td\u003e\n      \u003ctd\u003e0\u003c/td\u003e\n      \u003ctd\u003e0.538\u003c/td\u003e\n      \u003ctd\u003e6.575\u003c/td\u003e\n      \u003ctd\u003e65.2\u003c/td\u003e\n      \u003ctd\u003e4.0900\u003c/td\u003e\n      \u003ctd\u003e1\u003c/td\u003e\n      \u003ctd\u003e296\u003c/td\u003e\n      \u003ctd\u003e15.3\u003c/td\u003e\n      \u003ctd\u003e396.90\u003c/td\u003e\n      \u003ctd\u003e4.98\u003c/td\u003e\n      \u003ctd\u003e24.0\u003c/td\u003e\n      \u003ctd\u003e0.041307\u003c/td\u003e\n    \u003c/tr\u003e\n    \u003ctr\u003e\n      \u003cth\u003e1\u003c/th\u003e\n      \u003ctd\u003e0.02731\u003c/td\u003e\n      \u003ctd\u003e0.0\u003c/td\u003e\n      \u003ctd\u003e7.07\u003c/td\u003e\n      \u003ctd\u003e0\u003c/td\u003e\n      \u003ctd\u003e0.469\u003c/td\u003e\n      \u003ctd\u003e6.421\u003c/td\u003e\n      \u003ctd\u003e78.9\u003c/td\u003e\n      \u003ctd\u003e4.9671\u003c/td\u003e\n      \u003ctd\u003e2\u003c/td\u003e\n      \u003ctd\u003e242\u003c/td\u003e\n      \u003ctd\u003e17.8\u003c/td\u003e\n      \u003ctd\u003e396.90\u003c/td\u003e\n      \u003ctd\u003e9.14\u003c/td\u003e\n      \u003ctd\u003e21.6\u003c/td\u003e\n      \u003ctd\u003e0.153427\u003c/td\u003e\n    \u003c/tr\u003e\n    \u003ctr\u003e\n      \u003cth\u003e2\u003c/th\u003e\n      \u003ctd\u003e0.02729\u003c/td\u003e\n      \u003ctd\u003e0.0\u003c/td\u003e\n      \u003ctd\u003e7.07\u003c/td\u003e\n      \u003ctd\u003e0\u003c/td\u003e\n      \u003ctd\u003e0.469\u003c/td\u003e\n      \u003ctd\u003e7.185\u003c/td\u003e\n      \u003ctd\u003e61.1\u003c/td\u003e\n      \u003ctd\u003e4.9671\u003c/td\u003e\n      \u003ctd\u003e2\u003c/td\u003e\n      \u003ctd\u003e242\u003c/td\u003e\n      \u003ctd\u003e17.8\u003c/td\u003e\n      \u003ctd\u003e392.83\u003c/td\u003e\n      \u003ctd\u003e4.03\u003c/td\u003e\n      \u003ctd\u003e34.7\u003c/td\u003e\n      \u003ctd\u003e0.153315\u003c/td\u003e\n    \u003c/tr\u003e\n    \u003ctr\u003e\n      \u003cth\u003e3\u003c/th\u003e\n      \u003ctd\u003e0.03237\u003c/td\u003e\n      \u003ctd\u003e0.0\u003c/td\u003e\n      \u003ctd\u003e2.18\u003c/td\u003e\n      \u003ctd\u003e0\u003c/td\u003e\n      \u003ctd\u003e0.458\u003c/td\u003e\n      \u003ctd\u003e6.998\u003c/td\u003e\n      \u003ctd\u003e45.8\u003c/td\u003e\n      \u003ctd\u003e6.0622\u003c/td\u003e\n      \u003ctd\u003e3\u003c/td\u003e\n      \u003ctd\u003e222\u003c/td\u003e\n      \u003ctd\u003e18.7\u003c/td\u003e\n      \u003ctd\u003e394.63\u003c/td\u003e\n      \u003ctd\u003e2.94\u003c/td\u003e\n      \u003ctd\u003e33.4\u003c/td\u003e\n      \u003ctd\u003e0.173102\u003c/td\u003e\n    \u003c/tr\u003e\n    \u003ctr\u003e\n      \u003cth\u003e4\u003c/th\u003e\n      \u003ctd\u003e0.06905\u003c/td\u003e\n      \u003ctd\u003e0.0\u003c/td\u003e\n      \u003ctd\u003e2.18\u003c/td\u003e\n      \u003ctd\u003e0\u003c/td\u003e\n      \u003ctd\u003e0.458\u003c/td\u003e\n      \u003ctd\u003e7.147\u003c/td\u003e\n      \u003ctd\u003e54.2\u003c/td\u003e\n      \u003ctd\u003e6.0622\u003c/td\u003e\n      \u003ctd\u003e3\u003c/td\u003e\n      \u003ctd\u003e222\u003c/td\u003e\n      \u003ctd\u003e18.7\u003c/td\u003e\n      \u003ctd\u003e396.90\u003c/td\u003e\n      \u003ctd\u003e5.33\u003c/td\u003e\n      \u003ctd\u003e36.2\u003c/td\u003e\n      \u003ctd\u003e0.369251\u003c/td\u003e\n    \u003c/tr\u003e\n  \u003c/tbody\u003e\n\u003c/table\u003e\n\u003c/div\u003e"
          },
          "metadata": {},
          "output_type": "execute_result",
          "execution_count": 27
        }
      ],
      "source": "boston_housing[\u0027education-crime-ratio\u0027] \u003d (boston_housing[\u0027crim\u0027]/boston_housing[\u0027ptratio\u0027] * 100)\nboston_housing.head()",
      "metadata": {
        "pycharm": {
          "metadata": false,
          "name": "#%%\n",
          "is_executing": false
        }
      }
    },
    {
      "cell_type": "code",
      "execution_count": 26,
      "outputs": [
        {
          "data": {
            "text/plain": "             crim          zn       indus        chas         nox          rm  \\\ncount  506.000000  506.000000  506.000000  506.000000  506.000000  506.000000   \nmean     3.613524   11.363636   11.136779    0.069170    0.554695    6.284634   \nstd      8.601545   23.322453    6.860353    0.253994    0.115878    0.702617   \nmin      0.006320    0.000000    0.460000    0.000000    0.385000    3.561000   \n25%      0.082045    0.000000    5.190000    0.000000    0.449000    5.885500   \n50%      0.256510    0.000000    9.690000    0.000000    0.538000    6.208500   \n75%      3.677082   12.500000   18.100000    0.000000    0.624000    6.623500   \nmax     88.976200  100.000000   27.740000    1.000000    0.871000    8.780000   \n\n              age         dis         rad         tax     ptratio           b  \\\ncount  506.000000  506.000000  506.000000  506.000000  506.000000  506.000000   \nmean    68.574901    3.795043    9.549407  408.237154   18.455534  356.674032   \nstd     28.148861    2.105710    8.707259  168.537116    2.164946   91.294864   \nmin      2.900000    1.129600    1.000000  187.000000   12.600000    0.320000   \n25%     45.025000    2.100175    4.000000  279.000000   17.400000  375.377500   \n50%     77.500000    3.207450    5.000000  330.000000   19.050000  391.440000   \n75%     94.075000    5.188425   24.000000  666.000000   20.200000  396.225000   \nmax    100.000000   12.126500   24.000000  711.000000   22.000000  396.900000   \n\n            lstat        medv  education-crime-ratio  \ncount  506.000000  506.000000             506.000000  \nmean    12.653063   22.532806              18.198424  \nstd      7.141062    9.197104              42.530956  \nmin      1.730000    5.000000               0.041307  \n25%      6.950000   17.025000               0.456047  \n50%     11.360000   21.200000               1.393775  \n75%     16.955000   25.000000              18.854352  \nmax     37.970000   50.000000             440.476238  ",
            "text/html": "\u003cdiv\u003e\n\u003cstyle scoped\u003e\n    .dataframe tbody tr th:only-of-type {\n        vertical-align: middle;\n    }\n\n    .dataframe tbody tr th {\n        vertical-align: top;\n    }\n\n    .dataframe thead th {\n        text-align: right;\n    }\n\u003c/style\u003e\n\u003ctable border\u003d\"1\" class\u003d\"dataframe\"\u003e\n  \u003cthead\u003e\n    \u003ctr style\u003d\"text-align: right;\"\u003e\n      \u003cth\u003e\u003c/th\u003e\n      \u003cth\u003ecrim\u003c/th\u003e\n      \u003cth\u003ezn\u003c/th\u003e\n      \u003cth\u003eindus\u003c/th\u003e\n      \u003cth\u003echas\u003c/th\u003e\n      \u003cth\u003enox\u003c/th\u003e\n      \u003cth\u003erm\u003c/th\u003e\n      \u003cth\u003eage\u003c/th\u003e\n      \u003cth\u003edis\u003c/th\u003e\n      \u003cth\u003erad\u003c/th\u003e\n      \u003cth\u003etax\u003c/th\u003e\n      \u003cth\u003eptratio\u003c/th\u003e\n      \u003cth\u003eb\u003c/th\u003e\n      \u003cth\u003elstat\u003c/th\u003e\n      \u003cth\u003emedv\u003c/th\u003e\n      \u003cth\u003eeducation-crime-ratio\u003c/th\u003e\n    \u003c/tr\u003e\n  \u003c/thead\u003e\n  \u003ctbody\u003e\n    \u003ctr\u003e\n      \u003cth\u003ecount\u003c/th\u003e\n      \u003ctd\u003e506.000000\u003c/td\u003e\n      \u003ctd\u003e506.000000\u003c/td\u003e\n      \u003ctd\u003e506.000000\u003c/td\u003e\n      \u003ctd\u003e506.000000\u003c/td\u003e\n      \u003ctd\u003e506.000000\u003c/td\u003e\n      \u003ctd\u003e506.000000\u003c/td\u003e\n      \u003ctd\u003e506.000000\u003c/td\u003e\n      \u003ctd\u003e506.000000\u003c/td\u003e\n      \u003ctd\u003e506.000000\u003c/td\u003e\n      \u003ctd\u003e506.000000\u003c/td\u003e\n      \u003ctd\u003e506.000000\u003c/td\u003e\n      \u003ctd\u003e506.000000\u003c/td\u003e\n      \u003ctd\u003e506.000000\u003c/td\u003e\n      \u003ctd\u003e506.000000\u003c/td\u003e\n      \u003ctd\u003e506.000000\u003c/td\u003e\n    \u003c/tr\u003e\n    \u003ctr\u003e\n      \u003cth\u003emean\u003c/th\u003e\n      \u003ctd\u003e3.613524\u003c/td\u003e\n      \u003ctd\u003e11.363636\u003c/td\u003e\n      \u003ctd\u003e11.136779\u003c/td\u003e\n      \u003ctd\u003e0.069170\u003c/td\u003e\n      \u003ctd\u003e0.554695\u003c/td\u003e\n      \u003ctd\u003e6.284634\u003c/td\u003e\n      \u003ctd\u003e68.574901\u003c/td\u003e\n      \u003ctd\u003e3.795043\u003c/td\u003e\n      \u003ctd\u003e9.549407\u003c/td\u003e\n      \u003ctd\u003e408.237154\u003c/td\u003e\n      \u003ctd\u003e18.455534\u003c/td\u003e\n      \u003ctd\u003e356.674032\u003c/td\u003e\n      \u003ctd\u003e12.653063\u003c/td\u003e\n      \u003ctd\u003e22.532806\u003c/td\u003e\n      \u003ctd\u003e18.198424\u003c/td\u003e\n    \u003c/tr\u003e\n    \u003ctr\u003e\n      \u003cth\u003estd\u003c/th\u003e\n      \u003ctd\u003e8.601545\u003c/td\u003e\n      \u003ctd\u003e23.322453\u003c/td\u003e\n      \u003ctd\u003e6.860353\u003c/td\u003e\n      \u003ctd\u003e0.253994\u003c/td\u003e\n      \u003ctd\u003e0.115878\u003c/td\u003e\n      \u003ctd\u003e0.702617\u003c/td\u003e\n      \u003ctd\u003e28.148861\u003c/td\u003e\n      \u003ctd\u003e2.105710\u003c/td\u003e\n      \u003ctd\u003e8.707259\u003c/td\u003e\n      \u003ctd\u003e168.537116\u003c/td\u003e\n      \u003ctd\u003e2.164946\u003c/td\u003e\n      \u003ctd\u003e91.294864\u003c/td\u003e\n      \u003ctd\u003e7.141062\u003c/td\u003e\n      \u003ctd\u003e9.197104\u003c/td\u003e\n      \u003ctd\u003e42.530956\u003c/td\u003e\n    \u003c/tr\u003e\n    \u003ctr\u003e\n      \u003cth\u003emin\u003c/th\u003e\n      \u003ctd\u003e0.006320\u003c/td\u003e\n      \u003ctd\u003e0.000000\u003c/td\u003e\n      \u003ctd\u003e0.460000\u003c/td\u003e\n      \u003ctd\u003e0.000000\u003c/td\u003e\n      \u003ctd\u003e0.385000\u003c/td\u003e\n      \u003ctd\u003e3.561000\u003c/td\u003e\n      \u003ctd\u003e2.900000\u003c/td\u003e\n      \u003ctd\u003e1.129600\u003c/td\u003e\n      \u003ctd\u003e1.000000\u003c/td\u003e\n      \u003ctd\u003e187.000000\u003c/td\u003e\n      \u003ctd\u003e12.600000\u003c/td\u003e\n      \u003ctd\u003e0.320000\u003c/td\u003e\n      \u003ctd\u003e1.730000\u003c/td\u003e\n      \u003ctd\u003e5.000000\u003c/td\u003e\n      \u003ctd\u003e0.041307\u003c/td\u003e\n    \u003c/tr\u003e\n    \u003ctr\u003e\n      \u003cth\u003e25%\u003c/th\u003e\n      \u003ctd\u003e0.082045\u003c/td\u003e\n      \u003ctd\u003e0.000000\u003c/td\u003e\n      \u003ctd\u003e5.190000\u003c/td\u003e\n      \u003ctd\u003e0.000000\u003c/td\u003e\n      \u003ctd\u003e0.449000\u003c/td\u003e\n      \u003ctd\u003e5.885500\u003c/td\u003e\n      \u003ctd\u003e45.025000\u003c/td\u003e\n      \u003ctd\u003e2.100175\u003c/td\u003e\n      \u003ctd\u003e4.000000\u003c/td\u003e\n      \u003ctd\u003e279.000000\u003c/td\u003e\n      \u003ctd\u003e17.400000\u003c/td\u003e\n      \u003ctd\u003e375.377500\u003c/td\u003e\n      \u003ctd\u003e6.950000\u003c/td\u003e\n      \u003ctd\u003e17.025000\u003c/td\u003e\n      \u003ctd\u003e0.456047\u003c/td\u003e\n    \u003c/tr\u003e\n    \u003ctr\u003e\n      \u003cth\u003e50%\u003c/th\u003e\n      \u003ctd\u003e0.256510\u003c/td\u003e\n      \u003ctd\u003e0.000000\u003c/td\u003e\n      \u003ctd\u003e9.690000\u003c/td\u003e\n      \u003ctd\u003e0.000000\u003c/td\u003e\n      \u003ctd\u003e0.538000\u003c/td\u003e\n      \u003ctd\u003e6.208500\u003c/td\u003e\n      \u003ctd\u003e77.500000\u003c/td\u003e\n      \u003ctd\u003e3.207450\u003c/td\u003e\n      \u003ctd\u003e5.000000\u003c/td\u003e\n      \u003ctd\u003e330.000000\u003c/td\u003e\n      \u003ctd\u003e19.050000\u003c/td\u003e\n      \u003ctd\u003e391.440000\u003c/td\u003e\n      \u003ctd\u003e11.360000\u003c/td\u003e\n      \u003ctd\u003e21.200000\u003c/td\u003e\n      \u003ctd\u003e1.393775\u003c/td\u003e\n    \u003c/tr\u003e\n    \u003ctr\u003e\n      \u003cth\u003e75%\u003c/th\u003e\n      \u003ctd\u003e3.677082\u003c/td\u003e\n      \u003ctd\u003e12.500000\u003c/td\u003e\n      \u003ctd\u003e18.100000\u003c/td\u003e\n      \u003ctd\u003e0.000000\u003c/td\u003e\n      \u003ctd\u003e0.624000\u003c/td\u003e\n      \u003ctd\u003e6.623500\u003c/td\u003e\n      \u003ctd\u003e94.075000\u003c/td\u003e\n      \u003ctd\u003e5.188425\u003c/td\u003e\n      \u003ctd\u003e24.000000\u003c/td\u003e\n      \u003ctd\u003e666.000000\u003c/td\u003e\n      \u003ctd\u003e20.200000\u003c/td\u003e\n      \u003ctd\u003e396.225000\u003c/td\u003e\n      \u003ctd\u003e16.955000\u003c/td\u003e\n      \u003ctd\u003e25.000000\u003c/td\u003e\n      \u003ctd\u003e18.854352\u003c/td\u003e\n    \u003c/tr\u003e\n    \u003ctr\u003e\n      \u003cth\u003emax\u003c/th\u003e\n      \u003ctd\u003e88.976200\u003c/td\u003e\n      \u003ctd\u003e100.000000\u003c/td\u003e\n      \u003ctd\u003e27.740000\u003c/td\u003e\n      \u003ctd\u003e1.000000\u003c/td\u003e\n      \u003ctd\u003e0.871000\u003c/td\u003e\n      \u003ctd\u003e8.780000\u003c/td\u003e\n      \u003ctd\u003e100.000000\u003c/td\u003e\n      \u003ctd\u003e12.126500\u003c/td\u003e\n      \u003ctd\u003e24.000000\u003c/td\u003e\n      \u003ctd\u003e711.000000\u003c/td\u003e\n      \u003ctd\u003e22.000000\u003c/td\u003e\n      \u003ctd\u003e396.900000\u003c/td\u003e\n      \u003ctd\u003e37.970000\u003c/td\u003e\n      \u003ctd\u003e50.000000\u003c/td\u003e\n      \u003ctd\u003e440.476238\u003c/td\u003e\n    \u003c/tr\u003e\n  \u003c/tbody\u003e\n\u003c/table\u003e\n\u003c/div\u003e"
          },
          "metadata": {},
          "output_type": "execute_result",
          "execution_count": 26
        }
      ],
      "source": "boston_housing.describe()\n",
      "metadata": {
        "pycharm": {
          "metadata": false,
          "name": "#%%\n",
          "is_executing": false
        }
      }
    }
  ],
  "metadata": {
    "language_info": {
      "codemirror_mode": {
        "name": "ipython",
        "version": 2
      },
      "file_extension": ".py",
      "mimetype": "text/x-python",
      "name": "python",
      "nbconvert_exporter": "python",
      "pygments_lexer": "ipython2",
      "version": "2.7.6"
    },
    "kernelspec": {
      "name": "python3",
      "language": "python",
      "display_name": "Python 3"
    },
    "stem_cell": {
      "cell_type": "raw",
      "source": "",
      "metadata": {
        "pycharm": {
          "metadata": false
        }
      }
    }
  },
  "nbformat": 4,
  "nbformat_minor": 0
}