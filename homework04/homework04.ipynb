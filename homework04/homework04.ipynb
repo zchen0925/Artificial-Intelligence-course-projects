{
  "cells": [
    {
      "cell_type": "markdown",
      "source": "##     Homework 04\n#### Ziqi Chen\n#### CS344\n#### April 12th, 2019\n#### Question 1: Speculate on whether you believe that so-called “deep” neural networks are destined to be another bust just as perceptrons and expert systems were in the past, or whether they really are a breakthrough that will be used for years into the future. Please give a two-to-three-paragraph answer, including examples to back up your argument.\n\nI think that compared to perceptrons, DNNs are indeed a breakthrough. It allows the new generation of AI to tap into real life fields like never before, and some exciting examples include the use of DNN to identify tumor cells, make economical predictions, and so on. We are seeing a real difference that DNN is making in many areas of decision-making that involves statistical predictions. Especially considering it is big data that can train and fine-tune these networks, which is also a growing field, I think that they are here to stay.\n\nNonetheless, as Prof Vander Linden discussed with us in class, DNNs are not like simple perceptrons or even expert systems that are easier to understand. Their inner workings are not unlike black boxes, and with more layers and inputs we add, the more difficult it becomes for a human to decypher how they arrived at their results. I think that if AI scientists don\u0027t actively address this problem, it may very well spell the end of DNNs or else lead the whole use of AI down a slippery moral slope. In our CS384 discussions, we are already seeing some of the complex implications of algorithms that use the same sort of statistical approach as DNN which have profound personal impacts. They spy on personal data and make judgements about people\u0027s characters by \"dumping them into buckets\". I\u0027m concerned that in the near future DNNs will be used in the same way, and because there are no \"hard-and-fast\" logic rules, it would be easy for humans to off-hand ignore any biases or errors that the networks make. \n\nOn a more positive note, I\u0027m curious to see if the people who are building these networks will continue to draw more inspiration from the human brain. The cerebrum has different types of neurons in different networks that are responsible for various functions. This is only part of what makes our brains so complex. It would be interesting to think about how we can model some of this \"neuronal specialization\" idea to DNNs and build networks with nodes that are analogous to different types of neurons. It may already be done or in progress as I\u0027m just learning about this interesting topic. \n\n",
      "metadata": {
        "pycharm": {
          "metadata": false
        }
      }
    }
  ],
  "metadata": {
    "language_info": {
      "codemirror_mode": {
        "name": "ipython",
        "version": 2
      },
      "file_extension": ".py",
      "mimetype": "text/x-python",
      "name": "python",
      "nbconvert_exporter": "python",
      "pygments_lexer": "ipython2",
      "version": "2.7.6"
    },
    "kernelspec": {
      "name": "python3",
      "language": "python",
      "display_name": "Python 3"
    },
    "stem_cell": {
      "cell_type": "raw",
      "source": "",
      "metadata": {
        "pycharm": {
          "metadata": false
        }
      }
    }
  },
  "nbformat": 4,
  "nbformat_minor": 0
}